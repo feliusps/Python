{
 "cells": [
  {
   "cell_type": "markdown",
   "metadata": {},
   "source": [
    "Objetive:\n",
    "Organize data in local databases and tables for querying and modification using Python's pandas and sqlite3 libraries. During the process you will learn how to use Jupyter Notebook to edit and run Python programs; organize data in tables and query and combine data from tables using the SQL language; define your own functions, and use functions and modules from the pandas and sqlite3 libraries. Upon completion of this project you will be able to start querying with the SQL language."
   ]
  },
  {
   "cell_type": "markdown",
   "metadata": {},
   "source": [
    "Tasks\n",
    "1 Exploring data in lists and tables Recognize objects from Python and the pandas library.\n",
    "2 Processing files and tables with iterative and conditional statements Save and read data in CSV \n",
    "  files and process it with pandas tables and for, if, and try statements.\n",
    "3 Creating a database of chemical elements Create tables in a database, insert data into the tables,\n",
    "  and display the data.\n",
    "4 Modifying tables and data Add columns of data, update values, and recreate tables.\n",
    "5 Selecting and processing data Process data with pandas objects and methods and with SQL statements.\n",
    "6 Creating related tables Distribute the data in a table into related tables and query data from\n",
    "  multiple tables."
   ]
  },
  {
   "cell_type": "markdown",
   "metadata": {},
   "source": [
    "# Task 1\n",
    "Exploring data in lists and tables"
   ]
  },
  {
   "cell_type": "code",
   "execution_count": 1,
   "metadata": {},
   "outputs": [
    {
     "name": "stdout",
     "output_type": "stream",
     "text": [
      "Una secuencia de caracteres entre comillas simples o dobles.\n"
     ]
    }
   ],
   "source": [
    "# asigna un objeto de texto, str\n",
    "texto = \"Una secuencia de caracteres entre comillas simples o dobles.\"\n",
    "\n",
    "# muestra el valor de un objeto\n",
    "print(texto)"
   ]
  },
  {
   "cell_type": "code",
   "execution_count": 2,
   "metadata": {},
   "outputs": [
    {
     "data": {
      "text/plain": [
       "'Una secuencia de caracteres entre comillas simples o dobles.'"
      ]
     },
     "execution_count": 2,
     "metadata": {},
     "output_type": "execute_result"
    }
   ],
   "source": [
    "# muestra el valor del objeto (al final de la celda)\n",
    "texto"
   ]
  },
  {
   "cell_type": "code",
   "execution_count": 3,
   "metadata": {},
   "outputs": [
    {
     "name": "stdout",
     "output_type": "stream",
     "text": [
      "Un texto entre triples comillas puede\n",
      "comprender varias lÃ­neas.\n"
     ]
    }
   ],
   "source": [
    "# texto de varias lÃ­neas con triples comillas (simples o dobles)\n",
    "mensaje = \"\"\"Un texto entre triples comillas puede\n",
    "comprender varias lÃ­neas.\"\"\"\n",
    "\n",
    "print(mensaje)"
   ]
  },
  {
   "cell_type": "markdown",
   "metadata": {},
   "source": [
    "Numbers"
   ]
  },
  {
   "cell_type": "code",
   "execution_count": 4,
   "metadata": {},
   "outputs": [
    {
     "name": "stdout",
     "output_type": "stream",
     "text": [
      "10 3.14 True\n"
     ]
    }
   ],
   "source": [
    "entero = 10         # objeto entero, int\n",
    "decimal = 3.14      # objeto decimal, float\n",
    "logico = True       # objeto logico, bool\n",
    "\n",
    "print(entero, decimal, logico)"
   ]
  },
  {
   "cell_type": "markdown",
   "metadata": {},
   "source": [
    "Tuple\n",
    "Immutable sequence of objects"
   ]
  },
  {
   "cell_type": "code",
   "execution_count": 5,
   "metadata": {},
   "outputs": [
    {
     "data": {
      "text/plain": [
       "(1, 2, 3)"
      ]
     },
     "execution_count": 5,
     "metadata": {},
     "output_type": "execute_result"
    }
   ],
   "source": [
    "# una tupla de tres objetos (pueden encerrarse entre parÃ©ntesis)\n",
    "tupla = (1, 2, 3)\n",
    "\n",
    "tupla"
   ]
  },
  {
   "cell_type": "code",
   "execution_count": 6,
   "metadata": {},
   "outputs": [
    {
     "data": {
      "text/plain": [
       "(10, 3.14, True)"
      ]
     },
     "execution_count": 6,
     "metadata": {},
     "output_type": "execute_result"
    }
   ],
   "source": [
    "# objetos separados por comas se muestran en una tupla\n",
    "entero, decimal, logico"
   ]
  },
  {
   "cell_type": "code",
   "execution_count": 7,
   "metadata": {},
   "outputs": [
    {
     "data": {
      "text/plain": [
       "(20,)"
      ]
     },
     "execution_count": 7,
     "metadata": {},
     "output_type": "execute_result"
    }
   ],
   "source": [
    "# una tupla de un objeto: entre parentesis seguido de una coma\n",
    "tupla = (20,)\n",
    "tupla"
   ]
  },
  {
   "cell_type": "markdown",
   "metadata": {},
   "source": [
    "Listas\n",
    "Secuencia mutable de objetos."
   ]
  },
  {
   "cell_type": "code",
   "execution_count": 8,
   "metadata": {},
   "outputs": [
    {
     "data": {
      "text/plain": [
       "[1, 2, 3, 4]"
      ]
     },
     "execution_count": 8,
     "metadata": {},
     "output_type": "execute_result"
    }
   ],
   "source": [
    "# una lista de cuatro nÃºmeros enteros\n",
    "lista = [1, 2, 3, 4]\n",
    "\n",
    "lista"
   ]
  },
  {
   "cell_type": "code",
   "execution_count": 9,
   "metadata": {},
   "outputs": [
    {
     "data": {
      "text/plain": [
       "1"
      ]
     },
     "execution_count": 9,
     "metadata": {},
     "output_type": "execute_result"
    }
   ],
   "source": [
    "# el primer elemento de lista\n",
    "lista[0]"
   ]
  },
  {
   "cell_type": "code",
   "execution_count": 10,
   "metadata": {},
   "outputs": [
    {
     "data": {
      "text/plain": [
       "[2, 3]"
      ]
     },
     "execution_count": 10,
     "metadata": {},
     "output_type": "execute_result"
    }
   ],
   "source": [
    "# una lista con los elementos en las \n",
    "# posiciones o indices 1 y 2 de lista\n",
    "lista[1 : 3]"
   ]
  },
  {
   "cell_type": "code",
   "execution_count": 11,
   "metadata": {},
   "outputs": [
    {
     "data": {
      "text/plain": [
       "[1, 2]"
      ]
     },
     "execution_count": 11,
     "metadata": {},
     "output_type": "execute_result"
    }
   ],
   "source": [
    "# una lista con los dos primeros elementos de lista\n",
    "lista[:2]"
   ]
  },
  {
   "cell_type": "code",
   "execution_count": 12,
   "metadata": {},
   "outputs": [
    {
     "data": {
      "text/plain": [
       "[1, 2, 3, 4, 10]"
      ]
     },
     "execution_count": 12,
     "metadata": {},
     "output_type": "execute_result"
    }
   ],
   "source": [
    "# agrega 10 al final de la lista\n",
    "lista.append(10)\n",
    "\n",
    "lista"
   ]
  },
  {
   "cell_type": "code",
   "execution_count": 13,
   "metadata": {},
   "outputs": [
    {
     "data": {
      "text/plain": [
       "(3, 4)"
      ]
     },
     "execution_count": 13,
     "metadata": {},
     "output_type": "execute_result"
    }
   ],
   "source": [
    "# una lista de dos tuplas\n",
    "lista_de_tuplas = [(1, 2), (3, 4)]\n",
    "\n",
    "# la segunda tupla de la lista\n",
    "lista_de_tuplas[1]"
   ]
  },
  {
   "cell_type": "code",
   "execution_count": 14,
   "metadata": {},
   "outputs": [
    {
     "data": {
      "text/plain": [
       "3"
      ]
     },
     "execution_count": 14,
     "metadata": {},
     "output_type": "execute_result"
    }
   ],
   "source": [
    "# una tupla de dos tuplas\n",
    "tupla_de_tuplas = ((1, 2), (3, 4))\n",
    "\n",
    "# selecciona    la segunda tupla,      (3, 4), y luego \n",
    "#               |  el primer elemento,  3\n",
    "#               |  |\n",
    "tupla_de_tuplas[1][0]"
   ]
  },
  {
   "cell_type": "code",
   "execution_count": 15,
   "metadata": {},
   "outputs": [
    {
     "data": {
      "text/plain": [
       "5"
      ]
     },
     "execution_count": 15,
     "metadata": {},
     "output_type": "execute_result"
    }
   ],
   "source": [
    "# numero de elementos de lista\n",
    "len(lista)"
   ]
  },
  {
   "cell_type": "markdown",
   "metadata": {},
   "source": [
    "La biblioteca pandas"
   ]
  },
  {
   "cell_type": "code",
   "execution_count": 16,
   "metadata": {},
   "outputs": [],
   "source": [
    "# importa la biblioteca pandas con el nombre equivalente pd\n",
    "import pandas as pd"
   ]
  },
  {
   "cell_type": "code",
   "execution_count": 17,
   "metadata": {},
   "outputs": [
    {
     "data": {
      "text/plain": [
       "0    10\n",
       "1    20\n",
       "2    30\n",
       "dtype: int64"
      ]
     },
     "execution_count": 17,
     "metadata": {},
     "output_type": "execute_result"
    }
   ],
   "source": [
    "# objeto Series: datos and indices\n",
    "serie = pd.Series([10, 20, 30])\n",
    "serie"
   ]
  },
  {
   "cell_type": "code",
   "execution_count": 18,
   "metadata": {},
   "outputs": [
    {
     "data": {
      "text/plain": [
       "a    10\n",
       "b    20\n",
       "c    30\n",
       "dtype: int64"
      ]
     },
     "execution_count": 18,
     "metadata": {},
     "output_type": "execute_result"
    }
   ],
   "source": [
    "# una serie de tres numeros con indices literales\n",
    "serie = pd.Series([10, 20, 30], index=['a', 'b', 'c'])\n",
    "serie"
   ]
  },
  {
   "cell_type": "code",
   "execution_count": 19,
   "metadata": {},
   "outputs": [
    {
     "data": {
      "text/html": [
       "<div>\n",
       "<style scoped>\n",
       "    .dataframe tbody tr th:only-of-type {\n",
       "        vertical-align: middle;\n",
       "    }\n",
       "\n",
       "    .dataframe tbody tr th {\n",
       "        vertical-align: top;\n",
       "    }\n",
       "\n",
       "    .dataframe thead th {\n",
       "        text-align: right;\n",
       "    }\n",
       "</style>\n",
       "<table border=\"1\" class=\"dataframe\">\n",
       "  <thead>\n",
       "    <tr style=\"text-align: right;\">\n",
       "      <th></th>\n",
       "      <th>0</th>\n",
       "    </tr>\n",
       "  </thead>\n",
       "  <tbody>\n",
       "    <tr>\n",
       "      <th>a</th>\n",
       "      <td>10</td>\n",
       "    </tr>\n",
       "    <tr>\n",
       "      <th>b</th>\n",
       "      <td>20</td>\n",
       "    </tr>\n",
       "    <tr>\n",
       "      <th>c</th>\n",
       "      <td>30</td>\n",
       "    </tr>\n",
       "  </tbody>\n",
       "</table>\n",
       "</div>"
      ],
      "text/plain": [
       "    0\n",
       "a  10\n",
       "b  20\n",
       "c  30"
      ]
     },
     "execution_count": 19,
     "metadata": {},
     "output_type": "execute_result"
    }
   ],
   "source": [
    "# objeto DataFrame: tabla de datos\n",
    "pd.DataFrame(serie)"
   ]
  },
  {
   "cell_type": "code",
   "execution_count": 20,
   "metadata": {},
   "outputs": [
    {
     "data": {
      "text/html": [
       "<div>\n",
       "<style scoped>\n",
       "    .dataframe tbody tr th:only-of-type {\n",
       "        vertical-align: middle;\n",
       "    }\n",
       "\n",
       "    .dataframe tbody tr th {\n",
       "        vertical-align: top;\n",
       "    }\n",
       "\n",
       "    .dataframe thead th {\n",
       "        text-align: right;\n",
       "    }\n",
       "</style>\n",
       "<table border=\"1\" class=\"dataframe\">\n",
       "  <thead>\n",
       "    <tr style=\"text-align: right;\">\n",
       "      <th></th>\n",
       "      <th>Enteros</th>\n",
       "    </tr>\n",
       "  </thead>\n",
       "  <tbody>\n",
       "    <tr>\n",
       "      <th>a</th>\n",
       "      <td>10</td>\n",
       "    </tr>\n",
       "    <tr>\n",
       "      <th>b</th>\n",
       "      <td>20</td>\n",
       "    </tr>\n",
       "    <tr>\n",
       "      <th>c</th>\n",
       "      <td>30</td>\n",
       "    </tr>\n",
       "  </tbody>\n",
       "</table>\n",
       "</div>"
      ],
      "text/plain": [
       "   Enteros\n",
       "a       10\n",
       "b       20\n",
       "c       30"
      ]
     },
     "execution_count": 20,
     "metadata": {},
     "output_type": "execute_result"
    }
   ],
   "source": [
    "# especifica el nombre de la columna\n",
    "pd.DataFrame(serie, columns=['Enteros'])"
   ]
  },
  {
   "cell_type": "code",
   "execution_count": 24,
   "metadata": {},
   "outputs": [
    {
     "data": {
      "text/html": [
       "<div>\n",
       "<style scoped>\n",
       "    .dataframe tbody tr th:only-of-type {\n",
       "        vertical-align: middle;\n",
       "    }\n",
       "\n",
       "    .dataframe tbody tr th {\n",
       "        vertical-align: top;\n",
       "    }\n",
       "\n",
       "    .dataframe thead th {\n",
       "        text-align: right;\n",
       "    }\n",
       "</style>\n",
       "<table border=\"1\" class=\"dataframe\">\n",
       "  <thead>\n",
       "    <tr style=\"text-align: right;\">\n",
       "      <th></th>\n",
       "      <th>Elemento</th>\n",
       "    </tr>\n",
       "  </thead>\n",
       "  <tbody>\n",
       "    <tr>\n",
       "      <th>0</th>\n",
       "      <td>Hidrogeno</td>\n",
       "    </tr>\n",
       "    <tr>\n",
       "      <th>1</th>\n",
       "      <td>Helio</td>\n",
       "    </tr>\n",
       "    <tr>\n",
       "      <th>2</th>\n",
       "      <td>Litio</td>\n",
       "    </tr>\n",
       "    <tr>\n",
       "      <th>3</th>\n",
       "      <td>Berilio</td>\n",
       "    </tr>\n",
       "  </tbody>\n",
       "</table>\n",
       "</div>"
      ],
      "text/plain": [
       "    Elemento\n",
       "0  Hidrogeno\n",
       "1      Helio\n",
       "2      Litio\n",
       "3    Berilio"
      ]
     },
     "execution_count": 24,
     "metadata": {},
     "output_type": "execute_result"
    }
   ],
   "source": [
    "# crea una tabla vacia\n",
    "elementos_quimicos = pd.DataFrame()\n",
    "\n",
    "# agrega una columna Elemento con los datos de una lista\n",
    "elementos_quimicos['Elemento'] = ['Hidrogeno', 'Helio', 'Litio', 'Berilio']\n",
    "\n",
    "elementos_quimicos"
   ]
  },
  {
   "cell_type": "code",
   "execution_count": 25,
   "metadata": {},
   "outputs": [
    {
     "data": {
      "text/html": [
       "<div>\n",
       "<style scoped>\n",
       "    .dataframe tbody tr th:only-of-type {\n",
       "        vertical-align: middle;\n",
       "    }\n",
       "\n",
       "    .dataframe tbody tr th {\n",
       "        vertical-align: top;\n",
       "    }\n",
       "\n",
       "    .dataframe thead th {\n",
       "        text-align: right;\n",
       "    }\n",
       "</style>\n",
       "<table border=\"1\" class=\"dataframe\">\n",
       "  <thead>\n",
       "    <tr style=\"text-align: right;\">\n",
       "      <th></th>\n",
       "      <th>Elemento</th>\n",
       "      <th>Simbolo</th>\n",
       "    </tr>\n",
       "  </thead>\n",
       "  <tbody>\n",
       "    <tr>\n",
       "      <th>0</th>\n",
       "      <td>Hidrogeno</td>\n",
       "      <td>H</td>\n",
       "    </tr>\n",
       "    <tr>\n",
       "      <th>1</th>\n",
       "      <td>Helio</td>\n",
       "      <td>He</td>\n",
       "    </tr>\n",
       "    <tr>\n",
       "      <th>2</th>\n",
       "      <td>Litio</td>\n",
       "      <td>Li</td>\n",
       "    </tr>\n",
       "    <tr>\n",
       "      <th>3</th>\n",
       "      <td>Berilio</td>\n",
       "      <td>Be</td>\n",
       "    </tr>\n",
       "  </tbody>\n",
       "</table>\n",
       "</div>"
      ],
      "text/plain": [
       "    Elemento Simbolo\n",
       "0  Hidrogeno       H\n",
       "1      Helio      He\n",
       "2      Litio      Li\n",
       "3    Berilio      Be"
      ]
     },
     "execution_count": 25,
     "metadata": {},
     "output_type": "execute_result"
    }
   ],
   "source": [
    "# crea una columna Simbolo con los datos de otra lista\n",
    "elementos_quimicos['Simbolo'] = ['H', 'He', 'Li', 'Be']\n",
    "\n",
    "elementos_quimicos"
   ]
  },
  {
   "cell_type": "code",
   "execution_count": 26,
   "metadata": {},
   "outputs": [
    {
     "data": {
      "text/html": [
       "<div>\n",
       "<style scoped>\n",
       "    .dataframe tbody tr th:only-of-type {\n",
       "        vertical-align: middle;\n",
       "    }\n",
       "\n",
       "    .dataframe tbody tr th {\n",
       "        vertical-align: top;\n",
       "    }\n",
       "\n",
       "    .dataframe thead th {\n",
       "        text-align: right;\n",
       "    }\n",
       "</style>\n",
       "<table border=\"1\" class=\"dataframe\">\n",
       "  <thead>\n",
       "    <tr style=\"text-align: right;\">\n",
       "      <th></th>\n",
       "      <th>Elemento</th>\n",
       "      <th>Simbolo</th>\n",
       "    </tr>\n",
       "  </thead>\n",
       "  <tbody>\n",
       "    <tr>\n",
       "      <th>0</th>\n",
       "      <td>Hidrogeno</td>\n",
       "      <td>H</td>\n",
       "    </tr>\n",
       "    <tr>\n",
       "      <th>1</th>\n",
       "      <td>Helio</td>\n",
       "      <td>He</td>\n",
       "    </tr>\n",
       "    <tr>\n",
       "      <th>2</th>\n",
       "      <td>Litio</td>\n",
       "      <td>Li</td>\n",
       "    </tr>\n",
       "    <tr>\n",
       "      <th>3</th>\n",
       "      <td>Berilio</td>\n",
       "      <td>Be</td>\n",
       "    </tr>\n",
       "  </tbody>\n",
       "</table>\n",
       "</div>"
      ],
      "text/plain": [
       "    Elemento Simbolo\n",
       "0  Hidrogeno       H\n",
       "1      Helio      He\n",
       "2      Litio      Li\n",
       "3    Berilio      Be"
      ]
     },
     "execution_count": 26,
     "metadata": {},
     "output_type": "execute_result"
    }
   ],
   "source": [
    "# una lista de tuplas conteniendo pares de nombres y sÃ­mbolos de los elementos\n",
    "elementos_y_simbolos = [('Hidrogeno', 'H'),\n",
    "                        ('Helio', 'He'),\n",
    "                        ('Litio', 'Li'),\n",
    "                        ('Berilio', 'Be')]\n",
    "\n",
    "# una tabla con una lista de tuplas como datos y nombres para las columnas\n",
    "elementos_quimicos = pd.DataFrame(elementos_y_simbolos,\n",
    "                                  columns=['Elemento', 'Simbolo'])\n",
    "elementos_quimicos"
   ]
  },
  {
   "cell_type": "code",
   "execution_count": 27,
   "metadata": {},
   "outputs": [
    {
     "data": {
      "text/html": [
       "<div>\n",
       "<style scoped>\n",
       "    .dataframe tbody tr th:only-of-type {\n",
       "        vertical-align: middle;\n",
       "    }\n",
       "\n",
       "    .dataframe tbody tr th {\n",
       "        vertical-align: top;\n",
       "    }\n",
       "\n",
       "    .dataframe thead th {\n",
       "        text-align: right;\n",
       "    }\n",
       "</style>\n",
       "<table border=\"1\" class=\"dataframe\">\n",
       "  <thead>\n",
       "    <tr style=\"text-align: right;\">\n",
       "      <th></th>\n",
       "      <th>Elemento</th>\n",
       "      <th>Simbolo</th>\n",
       "    </tr>\n",
       "    <tr>\n",
       "      <th>Z</th>\n",
       "      <th></th>\n",
       "      <th></th>\n",
       "    </tr>\n",
       "  </thead>\n",
       "  <tbody>\n",
       "    <tr>\n",
       "      <th>1</th>\n",
       "      <td>Hidrogeno</td>\n",
       "      <td>H</td>\n",
       "    </tr>\n",
       "    <tr>\n",
       "      <th>2</th>\n",
       "      <td>Helio</td>\n",
       "      <td>He</td>\n",
       "    </tr>\n",
       "    <tr>\n",
       "      <th>3</th>\n",
       "      <td>Litio</td>\n",
       "      <td>Li</td>\n",
       "    </tr>\n",
       "    <tr>\n",
       "      <th>4</th>\n",
       "      <td>Berilio</td>\n",
       "      <td>Be</td>\n",
       "    </tr>\n",
       "  </tbody>\n",
       "</table>\n",
       "</div>"
      ],
      "text/plain": [
       "    Elemento Simbolo\n",
       "Z                   \n",
       "1  Hidrogeno       H\n",
       "2      Helio      He\n",
       "3      Litio      Li\n",
       "4    Berilio      Be"
      ]
     },
     "execution_count": 27,
     "metadata": {},
     "output_type": "execute_result"
    }
   ],
   "source": [
    "# indices con los nÃºmeros atÃ³micos\n",
    "elementos_quimicos.index = [1, 2, 3, 4]\n",
    "\n",
    "# nombre de la columna de indices\n",
    "elementos_quimicos.index.name = \"Z\"\n",
    "\n",
    "elementos_quimicos"
   ]
  },
  {
   "cell_type": "code",
   "execution_count": 28,
   "metadata": {},
   "outputs": [
    {
     "data": {
      "text/plain": [
       "Elemento    Berilio\n",
       "Simbolo          Be\n",
       "Name: 4, dtype: object"
      ]
     },
     "execution_count": 28,
     "metadata": {},
     "output_type": "execute_result"
    }
   ],
   "source": [
    "# retorna un objeto Series con los datos de la cuarta fila\n",
    "elementos_quimicos.iloc[3]"
   ]
  },
  {
   "cell_type": "code",
   "execution_count": 29,
   "metadata": {},
   "outputs": [
    {
     "data": {
      "text/plain": [
       "Elemento    Hidrogeno\n",
       "Simbolo             H\n",
       "Name: 1, dtype: object"
      ]
     },
     "execution_count": 29,
     "metadata": {},
     "output_type": "execute_result"
    }
   ],
   "source": [
    "# primera fila de la tabla\n",
    "elemento = elementos_quimicos.iloc[0]\n",
    "\n",
    "elemento"
   ]
  },
  {
   "cell_type": "code",
   "execution_count": 31,
   "metadata": {},
   "outputs": [
    {
     "data": {
      "text/plain": [
       "'Hidrogeno'"
      ]
     },
     "execution_count": 31,
     "metadata": {},
     "output_type": "execute_result"
    }
   ],
   "source": [
    "# el dato con el indice 'Elemento'\n",
    "elemento['Elemento']"
   ]
  },
  {
   "cell_type": "code",
   "execution_count": 32,
   "metadata": {},
   "outputs": [
    {
     "data": {
      "text/plain": [
       "'H'"
      ]
     },
     "execution_count": 32,
     "metadata": {},
     "output_type": "execute_result"
    }
   ],
   "source": [
    "# dato con el indice 'Simbolo'\n",
    "elemento['Simbolo']"
   ]
  },
  {
   "cell_type": "markdown",
   "metadata": {},
   "source": [
    "#Information"
   ]
  },
  {
   "cell_type": "code",
   "execution_count": 33,
   "metadata": {},
   "outputs": [
    {
     "name": "stdout",
     "output_type": "stream",
     "text": [
      "Help on built-in function len in module builtins:\n",
      "\n",
      "len(obj, /)\n",
      "    Return the number of items in a container.\n",
      "\n"
     ]
    }
   ],
   "source": [
    "# help(list.append)\n",
    "# help(pd)\n",
    "# help(pd.Series)\n",
    "# help(pd.Series.iloc)\n",
    "help(len)"
   ]
  },
  {
   "cell_type": "code",
   "execution_count": 34,
   "metadata": {},
   "outputs": [],
   "source": [
    "# list.append?\n",
    "# len?\n",
    "# pd.Series.iloc?\n",
    "# pd.DataFrame.iloc?\n",
    "pd.Series?"
   ]
  },
  {
   "cell_type": "markdown",
   "metadata": {},
   "source": [
    "# Tarea 2\n",
    "Procesando archivos y tablas con sentencias iterativas y condicionales"
   ]
  },
  {
   "cell_type": "markdown",
   "metadata": {},
   "source": [
    "File"
   ]
  },
  {
   "cell_type": "code",
   "execution_count": 35,
   "metadata": {},
   "outputs": [],
   "source": [
    "# guarda la tablaen un archivo con el mÃ©todo to_csv\n",
    "elementos_quimicos.to_csv(\"ElementosQuimicos.csv\")"
   ]
  },
  {
   "cell_type": "code",
   "execution_count": 36,
   "metadata": {},
   "outputs": [
    {
     "data": {
      "text/html": [
       "<div>\n",
       "<style scoped>\n",
       "    .dataframe tbody tr th:only-of-type {\n",
       "        vertical-align: middle;\n",
       "    }\n",
       "\n",
       "    .dataframe tbody tr th {\n",
       "        vertical-align: top;\n",
       "    }\n",
       "\n",
       "    .dataframe thead th {\n",
       "        text-align: right;\n",
       "    }\n",
       "</style>\n",
       "<table border=\"1\" class=\"dataframe\">\n",
       "  <thead>\n",
       "    <tr style=\"text-align: right;\">\n",
       "      <th></th>\n",
       "      <th>Z</th>\n",
       "      <th>Elemento</th>\n",
       "      <th>Simbolo</th>\n",
       "    </tr>\n",
       "  </thead>\n",
       "  <tbody>\n",
       "    <tr>\n",
       "      <th>0</th>\n",
       "      <td>1</td>\n",
       "      <td>Hidrogeno</td>\n",
       "      <td>H</td>\n",
       "    </tr>\n",
       "    <tr>\n",
       "      <th>1</th>\n",
       "      <td>2</td>\n",
       "      <td>Helio</td>\n",
       "      <td>He</td>\n",
       "    </tr>\n",
       "    <tr>\n",
       "      <th>2</th>\n",
       "      <td>3</td>\n",
       "      <td>Litio</td>\n",
       "      <td>Li</td>\n",
       "    </tr>\n",
       "    <tr>\n",
       "      <th>3</th>\n",
       "      <td>4</td>\n",
       "      <td>Berilio</td>\n",
       "      <td>Be</td>\n",
       "    </tr>\n",
       "  </tbody>\n",
       "</table>\n",
       "</div>"
      ],
      "text/plain": [
       "   Z   Elemento Simbolo\n",
       "0  1  Hidrogeno       H\n",
       "1  2      Helio      He\n",
       "2  3      Litio      Li\n",
       "3  4    Berilio      Be"
      ]
     },
     "execution_count": 36,
     "metadata": {},
     "output_type": "execute_result"
    }
   ],
   "source": [
    "# lee el archivo con la funciÃ³n read_csv\n",
    "pd.read_csv(\"ElementosQuimicos.csv\")"
   ]
  },
  {
   "cell_type": "code",
   "execution_count": 37,
   "metadata": {},
   "outputs": [
    {
     "data": {
      "text/html": [
       "<div>\n",
       "<style scoped>\n",
       "    .dataframe tbody tr th:only-of-type {\n",
       "        vertical-align: middle;\n",
       "    }\n",
       "\n",
       "    .dataframe tbody tr th {\n",
       "        vertical-align: top;\n",
       "    }\n",
       "\n",
       "    .dataframe thead th {\n",
       "        text-align: right;\n",
       "    }\n",
       "</style>\n",
       "<table border=\"1\" class=\"dataframe\">\n",
       "  <thead>\n",
       "    <tr style=\"text-align: right;\">\n",
       "      <th></th>\n",
       "      <th>Elemento</th>\n",
       "      <th>Simbolo</th>\n",
       "    </tr>\n",
       "    <tr>\n",
       "      <th>Z</th>\n",
       "      <th></th>\n",
       "      <th></th>\n",
       "    </tr>\n",
       "  </thead>\n",
       "  <tbody>\n",
       "    <tr>\n",
       "      <th>1</th>\n",
       "      <td>Hidrogeno</td>\n",
       "      <td>H</td>\n",
       "    </tr>\n",
       "    <tr>\n",
       "      <th>2</th>\n",
       "      <td>Helio</td>\n",
       "      <td>He</td>\n",
       "    </tr>\n",
       "    <tr>\n",
       "      <th>3</th>\n",
       "      <td>Litio</td>\n",
       "      <td>Li</td>\n",
       "    </tr>\n",
       "    <tr>\n",
       "      <th>4</th>\n",
       "      <td>Berilio</td>\n",
       "      <td>Be</td>\n",
       "    </tr>\n",
       "  </tbody>\n",
       "</table>\n",
       "</div>"
      ],
      "text/plain": [
       "    Elemento Simbolo\n",
       "Z                   \n",
       "1  Hidrogeno       H\n",
       "2      Helio      He\n",
       "3      Litio      Li\n",
       "4    Berilio      Be"
      ]
     },
     "execution_count": 37,
     "metadata": {},
     "output_type": "execute_result"
    }
   ],
   "source": [
    "# elige la primera columna para los indices de la tabla\n",
    "pd.read_csv(\"ElementosQuimicos.csv\", index_col=0)"
   ]
  },
  {
   "cell_type": "code",
   "execution_count": 38,
   "metadata": {},
   "outputs": [
    {
     "data": {
      "text/html": [
       "<div>\n",
       "<style scoped>\n",
       "    .dataframe tbody tr th:only-of-type {\n",
       "        vertical-align: middle;\n",
       "    }\n",
       "\n",
       "    .dataframe tbody tr th {\n",
       "        vertical-align: top;\n",
       "    }\n",
       "\n",
       "    .dataframe thead th {\n",
       "        text-align: right;\n",
       "    }\n",
       "</style>\n",
       "<table border=\"1\" class=\"dataframe\">\n",
       "  <thead>\n",
       "    <tr style=\"text-align: right;\">\n",
       "      <th></th>\n",
       "      <th>Elemento</th>\n",
       "      <th>Simbolo</th>\n",
       "    </tr>\n",
       "  </thead>\n",
       "  <tbody>\n",
       "    <tr>\n",
       "      <th>0</th>\n",
       "      <td>Hidrogeno</td>\n",
       "      <td>H</td>\n",
       "    </tr>\n",
       "    <tr>\n",
       "      <th>1</th>\n",
       "      <td>Helio</td>\n",
       "      <td>He</td>\n",
       "    </tr>\n",
       "    <tr>\n",
       "      <th>2</th>\n",
       "      <td>Litio</td>\n",
       "      <td>Li</td>\n",
       "    </tr>\n",
       "    <tr>\n",
       "      <th>3</th>\n",
       "      <td>Berilio</td>\n",
       "      <td>Be</td>\n",
       "    </tr>\n",
       "  </tbody>\n",
       "</table>\n",
       "</div>"
      ],
      "text/plain": [
       "    Elemento Simbolo\n",
       "0  Hidrogeno       H\n",
       "1      Helio      He\n",
       "2      Litio      Li\n",
       "3    Berilio      Be"
      ]
     },
     "execution_count": 38,
     "metadata": {},
     "output_type": "execute_result"
    }
   ],
   "source": [
    "# guarda la tabla sin incluir los indices\n",
    "elementos_quimicos.to_csv(\"ElementosQuimicos.csv\", index=False)\n",
    "\n",
    "# lee el archivo\n",
    "pd.read_csv(\"ElementosQuimicos.csv\")"
   ]
  },
  {
   "cell_type": "markdown",
   "metadata": {},
   "source": [
    "Sentencias de control\n",
    "Sentencia for"
   ]
  },
  {
   "cell_type": "code",
   "execution_count": null,
   "metadata": {},
   "outputs": [],
   "source": [
    "#help('for')"
   ]
  },
  {
   "cell_type": "code",
   "execution_count": 39,
   "metadata": {},
   "outputs": [
    {
     "name": "stdout",
     "output_type": "stream",
     "text": [
      "10\n",
      "diez\n",
      "ten\n",
      "10.0\n",
      "Se mostraron los objetos de la tupla.\n",
      "El valor final de i es 10.0\n"
     ]
    }
   ],
   "source": [
    "\"\"\"\n",
    "for objeto in objeto_iterable:\n",
    "    sentencias\n",
    "[else:\n",
    "    sentencias]\n",
    "\"\"\"\n",
    "for i in (10, \"diez\", \"ten\", 10.0):\n",
    "    print(i)\n",
    "else:\n",
    "    print(\"Se mostraron los objetos de la tupla.\")\n",
    "    print(\"El valor final de i es\", i)"
   ]
  },
  {
   "cell_type": "code",
   "execution_count": 40,
   "metadata": {},
   "outputs": [
    {
     "name": "stdout",
     "output_type": "stream",
     "text": [
      "0\n",
      "1\n",
      "2\n",
      "3\n"
     ]
    }
   ],
   "source": [
    "# la funciÃ³n range retorna una secuencia de nÃºmeros enteros\n",
    "\n",
    "for i in range(4):           # para i tomando los valores 0, 1, 2 y 3\n",
    "    print(i)                    # muestra el valor de i"
   ]
  },
  {
   "cell_type": "code",
   "execution_count": 41,
   "metadata": {},
   "outputs": [
    {
     "name": "stdout",
     "output_type": "stream",
     "text": [
      "Hidrogeno H\n",
      "Helio He\n",
      "Litio Li\n",
      "Berilio Be\n"
     ]
    }
   ],
   "source": [
    "# para i desde 0 hasta 3\n",
    "for i in range(4):\n",
    "    \n",
    "    # elemento toma los datos de la fila i de elementos_quimicos\n",
    "    elemento = elementos_quimicos.iloc[i]\n",
    "    \n",
    "    # muestra los datos con indices Elemento y Simbolo\n",
    "    print(elemento['Elemento'], elemento['Simbolo'])"
   ]
  },
  {
   "cell_type": "markdown",
   "metadata": {},
   "source": [
    "Sentencia if"
   ]
  },
  {
   "cell_type": "code",
   "execution_count": 42,
   "metadata": {},
   "outputs": [],
   "source": [
    "#help('if')"
   ]
  },
  {
   "cell_type": "code",
   "execution_count": 43,
   "metadata": {},
   "outputs": [
    {
     "name": "stdout",
     "output_type": "stream",
     "text": [
      "10 es positivo.\n"
     ]
    }
   ],
   "source": [
    "\"\"\"\n",
    "if expresion:\n",
    "    sentencias\n",
    "(elif expression:\n",
    "    sentencias\n",
    "[else:\n",
    "    sentencias]\n",
    "\"\"\"\n",
    "a = 10\n",
    "\n",
    "if a > 0:\n",
    "    print(a, \"es positivo.\")\n",
    "elif a == 0:\n",
    "    print(a, \"es cero.\")\n",
    "else:\n",
    "    print(a, \"es negativo.\")"
   ]
  },
  {
   "cell_type": "code",
   "execution_count": 45,
   "metadata": {},
   "outputs": [
    {
     "name": "stdout",
     "output_type": "stream",
     "text": [
      "Litio\n"
     ]
    }
   ],
   "source": [
    "# busca el nombre del elemento con sÃ­mbolo Li\n",
    "for i in range(4):\n",
    "    \n",
    "    # toma la fila i\n",
    "    elemento = elementos_quimicos.iloc[i]\n",
    "\n",
    "    # si el simbolo es Li\n",
    "    if elemento['Simbolo'] == 'Li':\n",
    "        # muestra el nombre del elemeno\n",
    "        print(elemento['Elemento'])\n",
    "        \n",
    "        # termina el bucle for\n",
    "        break"
   ]
  },
  {
   "cell_type": "code",
   "execution_count": 47,
   "metadata": {},
   "outputs": [
    {
     "data": {
      "text/plain": [
       "Z\n",
       "1    False\n",
       "2    False\n",
       "3     True\n",
       "4    False\n",
       "Name: Simbolo, dtype: bool"
      ]
     },
     "execution_count": 47,
     "metadata": {},
     "output_type": "execute_result"
    }
   ],
   "source": [
    "# toma los datos de la columna Simbolo en un objeto Series\n",
    "simbolos = elementos_quimicos['Simbolo']\n",
    "\n",
    "# seÃ±ala con True los lugares donde el sÃ­mbolo es Li\n",
    "filtro = simbolos == 'Li'\n",
    "\n",
    "filtro"
   ]
  },
  {
   "cell_type": "code",
   "execution_count": 48,
   "metadata": {},
   "outputs": [
    {
     "data": {
      "text/plain": [
       "Z\n",
       "3    Li\n",
       "Name: Simbolo, dtype: object"
      ]
     },
     "execution_count": 48,
     "metadata": {},
     "output_type": "execute_result"
    }
   ],
   "source": [
    "# muestra los datos de la serie donde el simbolo es Li\n",
    "simbolos[filtro]"
   ]
  },
  {
   "cell_type": "code",
   "execution_count": 49,
   "metadata": {},
   "outputs": [
    {
     "data": {
      "text/html": [
       "<div>\n",
       "<style scoped>\n",
       "    .dataframe tbody tr th:only-of-type {\n",
       "        vertical-align: middle;\n",
       "    }\n",
       "\n",
       "    .dataframe tbody tr th {\n",
       "        vertical-align: top;\n",
       "    }\n",
       "\n",
       "    .dataframe thead th {\n",
       "        text-align: right;\n",
       "    }\n",
       "</style>\n",
       "<table border=\"1\" class=\"dataframe\">\n",
       "  <thead>\n",
       "    <tr style=\"text-align: right;\">\n",
       "      <th></th>\n",
       "      <th>Elemento</th>\n",
       "      <th>Simbolo</th>\n",
       "    </tr>\n",
       "    <tr>\n",
       "      <th>Z</th>\n",
       "      <th></th>\n",
       "      <th></th>\n",
       "    </tr>\n",
       "  </thead>\n",
       "  <tbody>\n",
       "    <tr>\n",
       "      <th>3</th>\n",
       "      <td>Litio</td>\n",
       "      <td>Li</td>\n",
       "    </tr>\n",
       "  </tbody>\n",
       "</table>\n",
       "</div>"
      ],
      "text/plain": [
       "  Elemento Simbolo\n",
       "Z                 \n",
       "3    Litio      Li"
      ]
     },
     "execution_count": 49,
     "metadata": {},
     "output_type": "execute_result"
    }
   ],
   "source": [
    "# muestra las filas de la tabla donde el simbolo es Li\n",
    "elementos_quimicos[filtro]"
   ]
  },
  {
   "cell_type": "code",
   "execution_count": 50,
   "metadata": {},
   "outputs": [
    {
     "data": {
      "text/plain": [
       "Z\n",
       "3    Litio\n",
       "Name: Elemento, dtype: object"
      ]
     },
     "execution_count": 50,
     "metadata": {},
     "output_type": "execute_result"
    }
   ],
   "source": [
    "# selecciona la columna Elemento de la fila donde estÃ¡ el sÃ­mbolo Li\n",
    "elementos_quimicos[filtro]['Elemento']"
   ]
  },
  {
   "cell_type": "code",
   "execution_count": 51,
   "metadata": {},
   "outputs": [
    {
     "data": {
      "text/plain": [
       "'Litio'"
      ]
     },
     "execution_count": 51,
     "metadata": {},
     "output_type": "execute_result"
    }
   ],
   "source": [
    "# selecciona el elemento con simbolo Li\n",
    "elementos_quimicos[filtro]['Elemento'].iloc[0]"
   ]
  },
  {
   "cell_type": "code",
   "execution_count": 52,
   "metadata": {},
   "outputs": [
    {
     "name": "stdout",
     "output_type": "stream",
     "text": [
      "El elemento con simbolo H es Hidrogeno\n"
     ]
    }
   ],
   "source": [
    "# Encuentra un elemento a partir de su sÃ­mbolo.\n",
    "\n",
    "# fija el sÃ­mbolo del hidrÃ³geno  \n",
    "simbolo = 'H'\n",
    "\n",
    "# datos de la columna Simbolo\n",
    "simbolos = elementos_quimicos['Simbolo']\n",
    "\n",
    "# datos de la columna Elemento donde aparece el objeto simbolo\n",
    "resultado = elementos_quimicos[simbolos == simbolo]['Elemento']\n",
    "\n",
    "# Si la serie resultado no estÃ¡ vacia\n",
    "if len(resultado) != 0:\n",
    "    print(\"El elemento con simbolo\", simbolo, 'es', resultado.iloc[0])\n",
    "else:\n",
    "    print(\"No se encuentra el simbolo\", simbolo)"
   ]
  },
  {
   "cell_type": "markdown",
   "metadata": {},
   "source": [
    "Sentencia try"
   ]
  },
  {
   "cell_type": "code",
   "execution_count": 53,
   "metadata": {},
   "outputs": [
    {
     "name": "stdout",
     "output_type": "stream",
     "text": [
      "2.0\n"
     ]
    }
   ],
   "source": [
    "# una divisiÃ³n entre 0 da error y el programa se interrumpe\n",
    "x = 20 / 10     # cambiar 10 por 0\n",
    "\n",
    "# esta instrucciÃ³n no se ejecuta\n",
    "print(x)"
   ]
  },
  {
   "cell_type": "code",
   "execution_count": null,
   "metadata": {},
   "outputs": [],
   "source": [
    "#help('try')"
   ]
  },
  {
   "cell_type": "code",
   "execution_count": 54,
   "metadata": {},
   "outputs": [
    {
     "name": "stdout",
     "output_type": "stream",
     "text": [
      "x es 2.0\n"
     ]
    }
   ],
   "source": [
    "\"\"\"\n",
    "try:\n",
    "    sentencias\n",
    "(except [expresion [as identificador]]:\n",
    "    sentencias)\n",
    "[else:\n",
    "    sentencias]\n",
    "[finally:\n",
    "    sentencias]\n",
    "\"\"\"\n",
    "try:\n",
    "    x = 20 / 10          # cambia 10 por 0\n",
    "    print(\"x es\", x)\n",
    "except:\n",
    "    print(\"Ha ocurrido un error.\")\n",
    "    x = 0\n",
    "    print(\"x es\", 0)"
   ]
  },
  {
   "cell_type": "markdown",
   "metadata": {},
   "source": [
    "# Tarea 3\n",
    "Creando una base de datos de elementos quÃ­micosÂ¶\n"
   ]
  },
  {
   "cell_type": "markdown",
   "metadata": {},
   "source": [
    "Importar la biblioteca sqlite3\n",
    "Conectar con una base de datos\n",
    "Crear un cursor o manejador de datos\n",
    "Crear una tabla\n",
    "Insertar registros en la tabla\n",
    "Verificar los datos almacenados en la tabla\n",
    "Guardar o actualizar los datos en la base de datos\n",
    "Cerrar la conexiÃ³n"
   ]
  },
  {
   "cell_type": "markdown",
   "metadata": {},
   "source": [
    "Creando una base de datos"
   ]
  },
  {
   "cell_type": "code",
   "execution_count": 55,
   "metadata": {},
   "outputs": [],
   "source": [
    "# importa la biblioteca o mÃ³dulo sqlite3\n",
    "import sqlite3"
   ]
  },
  {
   "cell_type": "code",
   "execution_count": 56,
   "metadata": {},
   "outputs": [],
   "source": [
    "# la funciÃ³n connect del mÃ³dulo sqlite3 abre \n",
    "# una conexiÃ³n a una base de datos que \n",
    "# se crea automÃ¡ticamente si no existe\n",
    "\n",
    "conector = sqlite3.connect('elementos_quimicos.db')"
   ]
  },
  {
   "cell_type": "code",
   "execution_count": 57,
   "metadata": {},
   "outputs": [],
   "source": [
    "# crea un cursor o manejador de datos\n",
    "cursor = conector.cursor()"
   ]
  },
  {
   "cell_type": "markdown",
   "metadata": {},
   "source": [
    "Creando una tabla"
   ]
  },
  {
   "cell_type": "code",
   "execution_count": 58,
   "metadata": {},
   "outputs": [
    {
     "data": {
      "text/plain": [
       "<sqlite3.Cursor at 0x1e2b2b9a3b0>"
      ]
     },
     "execution_count": 58,
     "metadata": {},
     "output_type": "execute_result"
    }
   ],
   "source": [
    "# el metodo execute de cursor ejecuta una sentencia SQL\n",
    "cursor.execute(\"DROP TABLE IF EXISTS elementos\")"
   ]
  },
  {
   "cell_type": "code",
   "execution_count": 59,
   "metadata": {},
   "outputs": [
    {
     "data": {
      "text/plain": [
       "<sqlite3.Cursor at 0x1e2b2b9a3b0>"
      ]
     },
     "execution_count": 59,
     "metadata": {},
     "output_type": "execute_result"
    }
   ],
   "source": [
    "# sentencia SQL para crear una tabla de nombre elementos \n",
    "# con columnas id, nombre y simbolo:\n",
    "#   id: de tipo nÃºmero entero (INTEGER) con el \n",
    "#       atributo PRIMARY KEY (identificador)\n",
    "#   nombre, simbolo: datos de texto (TEXT) que \n",
    "#                    deben ser explicitos (NOT NULL)\n",
    "sentencia = \"\"\"\n",
    "CREATE TABLE elementos (\n",
    "    id INTEGER PRIMARY KEY,\n",
    "    nombre TEXT NOT NULL,\n",
    "    simbolo TEXT NOT NULL)\n",
    "\"\"\"\n",
    "\n",
    "# ejecuta la sentencia SQL\n",
    "cursor.execute(sentencia)"
   ]
  },
  {
   "cell_type": "code",
   "execution_count": 60,
   "metadata": {},
   "outputs": [
    {
     "data": {
      "text/plain": [
       "[(0, 'id', 'INTEGER', 0, None, 1),\n",
       " (1, 'nombre', 'TEXT', 1, None, 0),\n",
       " (2, 'simbolo', 'TEXT', 1, None, 0)]"
      ]
     },
     "execution_count": 60,
     "metadata": {},
     "output_type": "execute_result"
    }
   ],
   "source": [
    "# retorna una lista de tuplas con informaciÃ³n de las columnas de la tabla:\n",
    "#   - identificador de la columna\n",
    "#   - nombre de la columna\n",
    "#   - tipo de dato\n",
    "#   - restricciÃ³n de notnull (0: no, 1: si)\n",
    "#   - valor por defecto (None: no)\n",
    "#   - forma parte de PRIMARY KEY (0: no, 1: si)\n",
    "\n",
    "cursor.execute(\"PRAGMA table_info('elementos')\").fetchall()"
   ]
  },
  {
   "cell_type": "markdown",
   "metadata": {},
   "source": [
    "Ingresando datos en una tabla\n",
    "Elementos conocidos hasta 1500: cobre, oro, plomo, plata, hierro, carbono, estaÃ±o, azufre, mercurio, zinc, arsÃ©nico, antimonio, bismuto https://es.wikipedia.org/wiki/Descubrimiento_de_los_elementos_qu%C3%ADmicos\n",
    "\n",
    "INSERT INTO tabla    \n",
    "    (columna1, columna2, columna3)\n",
    "VAUES\n",
    "    (valor1, valor2, valor3),\n",
    "    (valor4, valor5, valor6)"
   ]
  },
  {
   "cell_type": "code",
   "execution_count": 61,
   "metadata": {},
   "outputs": [
    {
     "data": {
      "text/plain": [
       "<sqlite3.Cursor at 0x1e2b2b9a3b0>"
      ]
     },
     "execution_count": 61,
     "metadata": {},
     "output_type": "execute_result"
    }
   ],
   "source": [
    "# agrega registros a la tabla segÃºn el orden de\n",
    "# las columnas al crear la tabla: id, nombre, simbolo\n",
    "sentencia = \"\"\"\n",
    "INSERT INTO elementos\n",
    "VALUES\n",
    "    (1, 'Cobre', 'Cu')\n",
    "\"\"\"\n",
    "\n",
    "# ejecuta la sentencia SQL\n",
    "cursor.execute(sentencia)"
   ]
  },
  {
   "cell_type": "markdown",
   "metadata": {},
   "source": [
    "Consultando datos de una tabla\n",
    "SELECT * FROM tabla"
   ]
  },
  {
   "cell_type": "code",
   "execution_count": 62,
   "metadata": {},
   "outputs": [
    {
     "data": {
      "text/plain": [
       "<sqlite3.Cursor at 0x1e2b2b9a3b0>"
      ]
     },
     "execution_count": 62,
     "metadata": {},
     "output_type": "execute_result"
    }
   ],
   "source": [
    "# selecciona todas las columnas de la tabla elementos\n",
    "cursor.execute(\"SELECT * FROM elementos\")"
   ]
  },
  {
   "cell_type": "code",
   "execution_count": 63,
   "metadata": {},
   "outputs": [
    {
     "data": {
      "text/plain": [
       "[(1, 'Cobre', 'Cu')]"
      ]
     },
     "execution_count": 63,
     "metadata": {},
     "output_type": "execute_result"
    }
   ],
   "source": [
    "# retorna una lista de tuplas con los datos seleccionados\n",
    "cursor.fetchall()"
   ]
  },
  {
   "cell_type": "markdown",
   "metadata": {},
   "source": [
    "FunciÃ³n para mostrar los datos de la tabla elementos"
   ]
  },
  {
   "cell_type": "code",
   "execution_count": 64,
   "metadata": {},
   "outputs": [],
   "source": [
    "def ver_tabla():\n",
    "    \"\"\"\n",
    "    Retorna una lista de tuplas representando \n",
    "    las fias de datos de la tabla elementos.\n",
    "    \"\"\"\n",
    "    registros = cursor.execute(\"SELECT * FROM elementos\").fetchall()\n",
    "    return registros"
   ]
  },
  {
   "cell_type": "code",
   "execution_count": 65,
   "metadata": {},
   "outputs": [
    {
     "data": {
      "text/plain": [
       "[(1, 'Cobre', 'Cu')]"
      ]
     },
     "execution_count": 65,
     "metadata": {},
     "output_type": "execute_result"
    }
   ],
   "source": [
    "# ejecuta la funcion\n",
    "ver_tabla()"
   ]
  },
  {
   "cell_type": "code",
   "execution_count": 66,
   "metadata": {},
   "outputs": [
    {
     "data": {
      "text/plain": [
       "[(1, 'Cobre', 'Cu'), (2, 'Oro', 'Au'), (3, 'Plomo', 'Pb')]"
      ]
     },
     "execution_count": 66,
     "metadata": {},
     "output_type": "execute_result"
    }
   ],
   "source": [
    "# inserta registros especificando las columnas cuyos valores serÃ¡n ingresados\n",
    "sentencia = \"\"\"\n",
    "INSERT INTO elementos\n",
    "    (id, nombre, simbolo)\n",
    "VALUES\n",
    "    (2, 'Oro', 'Au'), \n",
    "    (3, 'Plomo', 'Pb')\n",
    "\"\"\"\n",
    "# ejecuta la sentencia SQL\n",
    "cursor.execute(sentencia)\n",
    "\n",
    "# muestra los datos de la tabla\n",
    "ver_tabla()"
   ]
  },
  {
   "cell_type": "code",
   "execution_count": 67,
   "metadata": {},
   "outputs": [
    {
     "data": {
      "text/plain": [
       "[(1, 'Cobre', 'Cu'),\n",
       " (2, 'Oro', 'Au'),\n",
       " (3, 'Plomo', 'Pb'),\n",
       " (4, 'Plata', 'Ag'),\n",
       " (5, 'Hierro', 'Fe'),\n",
       " (6, 'Carbono', 'C'),\n",
       " (7, 'EstaÃ±o', 'Sn'),\n",
       " (8, 'Azufre', 'S'),\n",
       " (9, 'Mercurio', 'Hg'),\n",
       " (10, 'Zinc', 'Zn'),\n",
       " (11, 'ArsÃ©nico', 'As'),\n",
       " (12, 'Antimonio', 'Sb'),\n",
       " (13, 'Bismuto', 'Bi')]"
      ]
     },
     "execution_count": 67,
     "metadata": {},
     "output_type": "execute_result"
    }
   ],
   "source": [
    "# inserta registros especificando los valores para los datos en las \n",
    "# columnas nombre y simbolo; los valores para la columna id (PRIMARY KEY) son \n",
    "# insertados automÃ¡ticamente incrementando los valores de uno en uno.\n",
    "sentencia = \"\"\"\n",
    "INSERT INTO elementos\n",
    "    (nombre, simbolo)\n",
    "VALUES\n",
    "    ('Plata', 'Ag'), \n",
    "    ('Hierro', 'Fe'), \n",
    "    ('Carbono', 'C'), \n",
    "    ('EstaÃ±o', 'Sn'), \n",
    "    ('Azufre', 'S'), \n",
    "    ('Mercurio', 'Hg'), \n",
    "    ('Zinc', 'Zn'), \n",
    "    ('ArsÃ©nico', 'As'), \n",
    "    ('Antimonio', 'Sb'), \n",
    "    ('Bismuto', 'Bi')\n",
    "\"\"\"\n",
    "cursor.execute(sentencia)\n",
    "ver_tabla()"
   ]
  },
  {
   "cell_type": "markdown",
   "metadata": {},
   "source": [
    "Salvando los cambios"
   ]
  },
  {
   "cell_type": "code",
   "execution_count": 68,
   "metadata": {},
   "outputs": [],
   "source": [
    "# guarda los cambios en la base de datos\n",
    "conector.commit()"
   ]
  },
  {
   "cell_type": "markdown",
   "metadata": {},
   "source": [
    "Cerrando la conexiÃ³n"
   ]
  },
  {
   "cell_type": "code",
   "execution_count": 69,
   "metadata": {},
   "outputs": [],
   "source": [
    "# cierra la conexiÃ³n del cursor\n",
    "cursor.close()"
   ]
  },
  {
   "cell_type": "code",
   "execution_count": 70,
   "metadata": {},
   "outputs": [],
   "source": [
    "# cierra la conexiÃ³n a la base de datos\n",
    "conector.close()"
   ]
  },
  {
   "cell_type": "markdown",
   "metadata": {},
   "source": [
    "# Tarea 4\n",
    "Modificando tablas y datos\n"
   ]
  },
  {
   "cell_type": "markdown",
   "metadata": {},
   "source": [
    "Creando funciones para manejo de errores"
   ]
  },
  {
   "cell_type": "code",
   "execution_count": 94,
   "metadata": {},
   "outputs": [],
   "source": [
    "def conectar(base_de_datos):\n",
    "    \"\"\" \n",
    "    Crea una conexiÃ³n y retorna el conector a la base de datos.\n",
    "    Si no se obtiene un conector retorna None (nada).\n",
    "    \"\"\"\n",
    "    \n",
    "    conector = None;\n",
    "        \n",
    "    try:\n",
    "        conector = sqlite3.connect(base_de_datos)\n",
    "\n",
    "        print(\"ConexiÃ³n establecida a\", base_de_datos)\n",
    "    \n",
    "    except:\n",
    "        # si ocurre algÃºn error se ejecutan estas instrucciones\n",
    "        print(\"Error en la conexiÃ³n a\", base_de_datos)\n",
    "\n",
    "    return conector"
   ]
  },
  {
   "cell_type": "code",
   "execution_count": 95,
   "metadata": {},
   "outputs": [
    {
     "name": "stdout",
     "output_type": "stream",
     "text": [
      "ConexiÃ³n establecida a elementos_quimicos.db\n"
     ]
    }
   ],
   "source": [
    "conector = conectar('elementos_quimicos.db')"
   ]
  },
  {
   "cell_type": "code",
   "execution_count": 96,
   "metadata": {},
   "outputs": [],
   "source": [
    "cursor = conector.cursor()"
   ]
  },
  {
   "cell_type": "code",
   "execution_count": 97,
   "metadata": {},
   "outputs": [
    {
     "name": "stdout",
     "output_type": "stream",
     "text": [
      "(1, 'Cobre', 'Cu', None)\n",
      "(2, 'Oro', 'Au', None)\n",
      "(3, 'Plomo', 'Pb', None)\n",
      "(4, 'Plata', 'Ag', None)\n",
      "(5, 'Hierro', 'Fe', None)\n",
      "(6, 'Carbono', 'C', None)\n",
      "(7, 'EstaÃ±o', 'Sn', None)\n",
      "(8, 'Azufre', 'S', None)\n",
      "(9, 'Mercurio', 'Hg', None)\n",
      "(10, 'Zinc', 'Zn', None)\n",
      "(11, 'ArsÃ©nico', 'As', None)\n",
      "(12, 'Antimonio', 'Sb', None)\n",
      "(13, 'Bismuto', 'Bi', None)\n"
     ]
    }
   ],
   "source": [
    "# selecciona todas las columnas de elementos\n",
    "cursor.execute(\"SELECT * FROM elementos\")\n",
    "\n",
    "# para cada fila o registro seleccionado\n",
    "for registro in cursor:\n",
    "    # muestra el dato\n",
    "    print(registro)"
   ]
  },
  {
   "cell_type": "code",
   "execution_count": 98,
   "metadata": {},
   "outputs": [
    {
     "data": {
      "text/plain": [
       "[('Cobre',),\n",
       " ('Oro',),\n",
       " ('Plomo',),\n",
       " ('Plata',),\n",
       " ('Hierro',),\n",
       " ('Carbono',),\n",
       " ('EstaÃ±o',),\n",
       " ('Azufre',),\n",
       " ('Mercurio',),\n",
       " ('Zinc',),\n",
       " ('ArsÃ©nico',),\n",
       " ('Antimonio',),\n",
       " ('Bismuto',)]"
      ]
     },
     "execution_count": 98,
     "metadata": {},
     "output_type": "execute_result"
    }
   ],
   "source": [
    "# selecciona la columna nombre de la tabla elementos en la base de datos\n",
    "cursor.execute(\"SELECT nombre FROM elementos\").fetchall()"
   ]
  },
  {
   "cell_type": "code",
   "execution_count": 99,
   "metadata": {},
   "outputs": [
    {
     "data": {
      "text/plain": [
       "[('Cobre', 'Cu'),\n",
       " ('Oro', 'Au'),\n",
       " ('Plomo', 'Pb'),\n",
       " ('Plata', 'Ag'),\n",
       " ('Hierro', 'Fe'),\n",
       " ('Carbono', 'C'),\n",
       " ('EstaÃ±o', 'Sn'),\n",
       " ('Azufre', 'S'),\n",
       " ('Mercurio', 'Hg'),\n",
       " ('Zinc', 'Zn'),\n",
       " ('ArsÃ©nico', 'As'),\n",
       " ('Antimonio', 'Sb'),\n",
       " ('Bismuto', 'Bi')]"
      ]
     },
     "execution_count": 99,
     "metadata": {},
     "output_type": "execute_result"
    }
   ],
   "source": [
    "# selecciona las columnas nombre y simbolo de la tabla elementos\n",
    "cursor.execute(\"SELECT nombre, simbolo FROM elementos\").fetchall()"
   ]
  },
  {
   "cell_type": "markdown",
   "metadata": {},
   "source": [
    "Presentando datos en tablas de pandas"
   ]
  },
  {
   "cell_type": "code",
   "execution_count": 100,
   "metadata": {},
   "outputs": [
    {
     "data": {
      "text/html": [
       "<div>\n",
       "<style scoped>\n",
       "    .dataframe tbody tr th:only-of-type {\n",
       "        vertical-align: middle;\n",
       "    }\n",
       "\n",
       "    .dataframe tbody tr th {\n",
       "        vertical-align: top;\n",
       "    }\n",
       "\n",
       "    .dataframe thead th {\n",
       "        text-align: right;\n",
       "    }\n",
       "</style>\n",
       "<table border=\"1\" class=\"dataframe\">\n",
       "  <thead>\n",
       "    <tr style=\"text-align: right;\">\n",
       "      <th></th>\n",
       "      <th>id</th>\n",
       "      <th>nombre</th>\n",
       "      <th>simbolo</th>\n",
       "      <th>Numero atomico</th>\n",
       "    </tr>\n",
       "  </thead>\n",
       "  <tbody>\n",
       "    <tr>\n",
       "      <th>0</th>\n",
       "      <td>1</td>\n",
       "      <td>Cobre</td>\n",
       "      <td>Cu</td>\n",
       "      <td>None</td>\n",
       "    </tr>\n",
       "    <tr>\n",
       "      <th>1</th>\n",
       "      <td>2</td>\n",
       "      <td>Oro</td>\n",
       "      <td>Au</td>\n",
       "      <td>None</td>\n",
       "    </tr>\n",
       "    <tr>\n",
       "      <th>2</th>\n",
       "      <td>3</td>\n",
       "      <td>Plomo</td>\n",
       "      <td>Pb</td>\n",
       "      <td>None</td>\n",
       "    </tr>\n",
       "    <tr>\n",
       "      <th>3</th>\n",
       "      <td>4</td>\n",
       "      <td>Plata</td>\n",
       "      <td>Ag</td>\n",
       "      <td>None</td>\n",
       "    </tr>\n",
       "    <tr>\n",
       "      <th>4</th>\n",
       "      <td>5</td>\n",
       "      <td>Hierro</td>\n",
       "      <td>Fe</td>\n",
       "      <td>None</td>\n",
       "    </tr>\n",
       "    <tr>\n",
       "      <th>5</th>\n",
       "      <td>6</td>\n",
       "      <td>Carbono</td>\n",
       "      <td>C</td>\n",
       "      <td>None</td>\n",
       "    </tr>\n",
       "    <tr>\n",
       "      <th>6</th>\n",
       "      <td>7</td>\n",
       "      <td>EstaÃ±o</td>\n",
       "      <td>Sn</td>\n",
       "      <td>None</td>\n",
       "    </tr>\n",
       "    <tr>\n",
       "      <th>7</th>\n",
       "      <td>8</td>\n",
       "      <td>Azufre</td>\n",
       "      <td>S</td>\n",
       "      <td>None</td>\n",
       "    </tr>\n",
       "    <tr>\n",
       "      <th>8</th>\n",
       "      <td>9</td>\n",
       "      <td>Mercurio</td>\n",
       "      <td>Hg</td>\n",
       "      <td>None</td>\n",
       "    </tr>\n",
       "    <tr>\n",
       "      <th>9</th>\n",
       "      <td>10</td>\n",
       "      <td>Zinc</td>\n",
       "      <td>Zn</td>\n",
       "      <td>None</td>\n",
       "    </tr>\n",
       "    <tr>\n",
       "      <th>10</th>\n",
       "      <td>11</td>\n",
       "      <td>ArsÃ©nico</td>\n",
       "      <td>As</td>\n",
       "      <td>None</td>\n",
       "    </tr>\n",
       "    <tr>\n",
       "      <th>11</th>\n",
       "      <td>12</td>\n",
       "      <td>Antimonio</td>\n",
       "      <td>Sb</td>\n",
       "      <td>None</td>\n",
       "    </tr>\n",
       "    <tr>\n",
       "      <th>12</th>\n",
       "      <td>13</td>\n",
       "      <td>Bismuto</td>\n",
       "      <td>Bi</td>\n",
       "      <td>None</td>\n",
       "    </tr>\n",
       "  </tbody>\n",
       "</table>\n",
       "</div>"
      ],
      "text/plain": [
       "    id     nombre simbolo Numero atomico\n",
       "0    1      Cobre      Cu           None\n",
       "1    2        Oro      Au           None\n",
       "2    3      Plomo      Pb           None\n",
       "3    4      Plata      Ag           None\n",
       "4    5     Hierro      Fe           None\n",
       "5    6    Carbono       C           None\n",
       "6    7    EstaÃ±o      Sn           None\n",
       "7    8     Azufre       S           None\n",
       "8    9   Mercurio      Hg           None\n",
       "9   10       Zinc      Zn           None\n",
       "10  11  ArsÃ©nico      As           None\n",
       "11  12  Antimonio      Sb           None\n",
       "12  13    Bismuto      Bi           None"
      ]
     },
     "execution_count": 100,
     "metadata": {},
     "output_type": "execute_result"
    }
   ],
   "source": [
    "# ejecuta la sentencia SQL pasando el conector a la base de datos\n",
    "# y retorna una tabla con los datos de todas las columnas\n",
    "pd.read_sql_query(\"SELECT * FROM elementos\", conector)"
   ]
  },
  {
   "cell_type": "code",
   "execution_count": 101,
   "metadata": {},
   "outputs": [
    {
     "data": {
      "text/html": [
       "<div>\n",
       "<style scoped>\n",
       "    .dataframe tbody tr th:only-of-type {\n",
       "        vertical-align: middle;\n",
       "    }\n",
       "\n",
       "    .dataframe tbody tr th {\n",
       "        vertical-align: top;\n",
       "    }\n",
       "\n",
       "    .dataframe thead th {\n",
       "        text-align: right;\n",
       "    }\n",
       "</style>\n",
       "<table border=\"1\" class=\"dataframe\">\n",
       "  <thead>\n",
       "    <tr style=\"text-align: right;\">\n",
       "      <th></th>\n",
       "      <th>nombre</th>\n",
       "      <th>simbolo</th>\n",
       "      <th>Numero atomico</th>\n",
       "    </tr>\n",
       "    <tr>\n",
       "      <th>id</th>\n",
       "      <th></th>\n",
       "      <th></th>\n",
       "      <th></th>\n",
       "    </tr>\n",
       "  </thead>\n",
       "  <tbody>\n",
       "    <tr>\n",
       "      <th>1</th>\n",
       "      <td>Cobre</td>\n",
       "      <td>Cu</td>\n",
       "      <td>None</td>\n",
       "    </tr>\n",
       "    <tr>\n",
       "      <th>2</th>\n",
       "      <td>Oro</td>\n",
       "      <td>Au</td>\n",
       "      <td>None</td>\n",
       "    </tr>\n",
       "    <tr>\n",
       "      <th>3</th>\n",
       "      <td>Plomo</td>\n",
       "      <td>Pb</td>\n",
       "      <td>None</td>\n",
       "    </tr>\n",
       "    <tr>\n",
       "      <th>4</th>\n",
       "      <td>Plata</td>\n",
       "      <td>Ag</td>\n",
       "      <td>None</td>\n",
       "    </tr>\n",
       "    <tr>\n",
       "      <th>5</th>\n",
       "      <td>Hierro</td>\n",
       "      <td>Fe</td>\n",
       "      <td>None</td>\n",
       "    </tr>\n",
       "    <tr>\n",
       "      <th>6</th>\n",
       "      <td>Carbono</td>\n",
       "      <td>C</td>\n",
       "      <td>None</td>\n",
       "    </tr>\n",
       "    <tr>\n",
       "      <th>7</th>\n",
       "      <td>EstaÃ±o</td>\n",
       "      <td>Sn</td>\n",
       "      <td>None</td>\n",
       "    </tr>\n",
       "    <tr>\n",
       "      <th>8</th>\n",
       "      <td>Azufre</td>\n",
       "      <td>S</td>\n",
       "      <td>None</td>\n",
       "    </tr>\n",
       "    <tr>\n",
       "      <th>9</th>\n",
       "      <td>Mercurio</td>\n",
       "      <td>Hg</td>\n",
       "      <td>None</td>\n",
       "    </tr>\n",
       "    <tr>\n",
       "      <th>10</th>\n",
       "      <td>Zinc</td>\n",
       "      <td>Zn</td>\n",
       "      <td>None</td>\n",
       "    </tr>\n",
       "    <tr>\n",
       "      <th>11</th>\n",
       "      <td>ArsÃ©nico</td>\n",
       "      <td>As</td>\n",
       "      <td>None</td>\n",
       "    </tr>\n",
       "    <tr>\n",
       "      <th>12</th>\n",
       "      <td>Antimonio</td>\n",
       "      <td>Sb</td>\n",
       "      <td>None</td>\n",
       "    </tr>\n",
       "    <tr>\n",
       "      <th>13</th>\n",
       "      <td>Bismuto</td>\n",
       "      <td>Bi</td>\n",
       "      <td>None</td>\n",
       "    </tr>\n",
       "  </tbody>\n",
       "</table>\n",
       "</div>"
      ],
      "text/plain": [
       "       nombre simbolo Numero atomico\n",
       "id                                  \n",
       "1       Cobre      Cu           None\n",
       "2         Oro      Au           None\n",
       "3       Plomo      Pb           None\n",
       "4       Plata      Ag           None\n",
       "5      Hierro      Fe           None\n",
       "6     Carbono       C           None\n",
       "7     EstaÃ±o      Sn           None\n",
       "8      Azufre       S           None\n",
       "9    Mercurio      Hg           None\n",
       "10       Zinc      Zn           None\n",
       "11  ArsÃ©nico      As           None\n",
       "12  Antimonio      Sb           None\n",
       "13    Bismuto      Bi           None"
      ]
     },
     "execution_count": 101,
     "metadata": {},
     "output_type": "execute_result"
    }
   ],
   "source": [
    "# fija el indice con la columna id\n",
    "pd.read_sql_query(\"SELECT * FROM elementos\", conector, index_col='id')"
   ]
  },
  {
   "cell_type": "markdown",
   "metadata": {},
   "source": [
    "Agregando una columna de numeros atomicos"
   ]
  },
  {
   "cell_type": "code",
   "execution_count": 102,
   "metadata": {},
   "outputs": [],
   "source": [
    "# nÃºmeros atÃ³micos de los elementos quÃ­micos de la tabla elementos\n",
    "numeros_atomicos = [29, 79, 82, 47, 26, 6, 50, 16, 80, 30, 33, 51, 83]"
   ]
  },
  {
   "cell_type": "code",
   "execution_count": 104,
   "metadata": {},
   "outputs": [
    {
     "ename": "OperationalError",
     "evalue": "duplicate column name: Numero atomico",
     "output_type": "error",
     "traceback": [
      "\u001b[1;31m---------------------------------------------------------------------------\u001b[0m",
      "\u001b[1;31mOperationalError\u001b[0m                          Traceback (most recent call last)",
      "\u001b[1;32m<ipython-input-104-9744096fd81a>\u001b[0m in \u001b[0;36m<module>\u001b[1;34m\u001b[0m\n\u001b[0;32m      1\u001b[0m \u001b[1;31m# ALTERA la TABLA elementos para AGREGAR la COLUMNA NÃºmero atÃ³mico de tipo ENTERO\u001b[0m\u001b[1;33m\u001b[0m\u001b[1;33m\u001b[0m\u001b[1;33m\u001b[0m\u001b[0m\n\u001b[1;32m----> 2\u001b[1;33m \u001b[0mcursor\u001b[0m\u001b[1;33m.\u001b[0m\u001b[0mexecute\u001b[0m\u001b[1;33m(\u001b[0m\u001b[1;34m\"\"\"ALTER TABLE elementos ADD COLUMN \"Numero atomico\" INTEGER\"\"\"\u001b[0m\u001b[1;33m)\u001b[0m\u001b[1;33m;\u001b[0m\u001b[1;33m\u001b[0m\u001b[1;33m\u001b[0m\u001b[0m\n\u001b[0m",
      "\u001b[1;31mOperationalError\u001b[0m: duplicate column name: Numero atomico"
     ]
    }
   ],
   "source": [
    "# ALTERA la TABLA elementos para AGREGAR la COLUMNA NÃºmero atÃ³mico de tipo ENTERO\n",
    "cursor.execute(\"\"\"ALTER TABLE elementos ADD COLUMN \"Numero atomico\" INTEGER\"\"\");"
   ]
  },
  {
   "cell_type": "code",
   "execution_count": 105,
   "metadata": {},
   "outputs": [
    {
     "data": {
      "text/html": [
       "<div>\n",
       "<style scoped>\n",
       "    .dataframe tbody tr th:only-of-type {\n",
       "        vertical-align: middle;\n",
       "    }\n",
       "\n",
       "    .dataframe tbody tr th {\n",
       "        vertical-align: top;\n",
       "    }\n",
       "\n",
       "    .dataframe thead th {\n",
       "        text-align: right;\n",
       "    }\n",
       "</style>\n",
       "<table border=\"1\" class=\"dataframe\">\n",
       "  <thead>\n",
       "    <tr style=\"text-align: right;\">\n",
       "      <th></th>\n",
       "      <th>nombre</th>\n",
       "      <th>simbolo</th>\n",
       "      <th>Numero atomico</th>\n",
       "    </tr>\n",
       "    <tr>\n",
       "      <th>id</th>\n",
       "      <th></th>\n",
       "      <th></th>\n",
       "      <th></th>\n",
       "    </tr>\n",
       "  </thead>\n",
       "  <tbody>\n",
       "    <tr>\n",
       "      <th>1</th>\n",
       "      <td>Cobre</td>\n",
       "      <td>Cu</td>\n",
       "      <td>None</td>\n",
       "    </tr>\n",
       "    <tr>\n",
       "      <th>2</th>\n",
       "      <td>Oro</td>\n",
       "      <td>Au</td>\n",
       "      <td>None</td>\n",
       "    </tr>\n",
       "    <tr>\n",
       "      <th>3</th>\n",
       "      <td>Plomo</td>\n",
       "      <td>Pb</td>\n",
       "      <td>None</td>\n",
       "    </tr>\n",
       "    <tr>\n",
       "      <th>4</th>\n",
       "      <td>Plata</td>\n",
       "      <td>Ag</td>\n",
       "      <td>None</td>\n",
       "    </tr>\n",
       "    <tr>\n",
       "      <th>5</th>\n",
       "      <td>Hierro</td>\n",
       "      <td>Fe</td>\n",
       "      <td>None</td>\n",
       "    </tr>\n",
       "    <tr>\n",
       "      <th>6</th>\n",
       "      <td>Carbono</td>\n",
       "      <td>C</td>\n",
       "      <td>None</td>\n",
       "    </tr>\n",
       "    <tr>\n",
       "      <th>7</th>\n",
       "      <td>EstaÃ±o</td>\n",
       "      <td>Sn</td>\n",
       "      <td>None</td>\n",
       "    </tr>\n",
       "    <tr>\n",
       "      <th>8</th>\n",
       "      <td>Azufre</td>\n",
       "      <td>S</td>\n",
       "      <td>None</td>\n",
       "    </tr>\n",
       "    <tr>\n",
       "      <th>9</th>\n",
       "      <td>Mercurio</td>\n",
       "      <td>Hg</td>\n",
       "      <td>None</td>\n",
       "    </tr>\n",
       "    <tr>\n",
       "      <th>10</th>\n",
       "      <td>Zinc</td>\n",
       "      <td>Zn</td>\n",
       "      <td>None</td>\n",
       "    </tr>\n",
       "    <tr>\n",
       "      <th>11</th>\n",
       "      <td>ArsÃ©nico</td>\n",
       "      <td>As</td>\n",
       "      <td>None</td>\n",
       "    </tr>\n",
       "    <tr>\n",
       "      <th>12</th>\n",
       "      <td>Antimonio</td>\n",
       "      <td>Sb</td>\n",
       "      <td>None</td>\n",
       "    </tr>\n",
       "    <tr>\n",
       "      <th>13</th>\n",
       "      <td>Bismuto</td>\n",
       "      <td>Bi</td>\n",
       "      <td>None</td>\n",
       "    </tr>\n",
       "  </tbody>\n",
       "</table>\n",
       "</div>"
      ],
      "text/plain": [
       "       nombre simbolo Numero atomico\n",
       "id                                  \n",
       "1       Cobre      Cu           None\n",
       "2         Oro      Au           None\n",
       "3       Plomo      Pb           None\n",
       "4       Plata      Ag           None\n",
       "5      Hierro      Fe           None\n",
       "6     Carbono       C           None\n",
       "7     EstaÃ±o      Sn           None\n",
       "8      Azufre       S           None\n",
       "9    Mercurio      Hg           None\n",
       "10       Zinc      Zn           None\n",
       "11  ArsÃ©nico      As           None\n",
       "12  Antimonio      Sb           None\n",
       "13    Bismuto      Bi           None"
      ]
     },
     "execution_count": 105,
     "metadata": {},
     "output_type": "execute_result"
    }
   ],
   "source": [
    "pd.read_sql_query(\"SELECT * FROM elementos\", conector, index_col='id')"
   ]
  },
  {
   "cell_type": "code",
   "execution_count": 106,
   "metadata": {},
   "outputs": [
    {
     "ename": "OperationalError",
     "evalue": "database is locked",
     "output_type": "error",
     "traceback": [
      "\u001b[1;31m---------------------------------------------------------------------------\u001b[0m",
      "\u001b[1;31mOperationalError\u001b[0m                          Traceback (most recent call last)",
      "\u001b[1;32m<ipython-input-106-9a291c2ae1d1>\u001b[0m in \u001b[0;36m<module>\u001b[1;34m\u001b[0m\n\u001b[0;32m     10\u001b[0m \u001b[1;31m#    - el primer elemento de la lista de nÃºmeros atÃ³micos\u001b[0m\u001b[1;33m\u001b[0m\u001b[1;33m\u001b[0m\u001b[1;33m\u001b[0m\u001b[0m\n\u001b[0;32m     11\u001b[0m \u001b[1;31m#    - el indice 1\u001b[0m\u001b[1;33m\u001b[0m\u001b[1;33m\u001b[0m\u001b[1;33m\u001b[0m\u001b[0m\n\u001b[1;32m---> 12\u001b[1;33m \u001b[0mcursor\u001b[0m\u001b[1;33m.\u001b[0m\u001b[0mexecute\u001b[0m\u001b[1;33m(\u001b[0m\u001b[0msentencia\u001b[0m\u001b[1;33m,\u001b[0m \u001b[1;33m(\u001b[0m\u001b[0mnumeros_atomicos\u001b[0m\u001b[1;33m[\u001b[0m\u001b[1;36m0\u001b[0m\u001b[1;33m]\u001b[0m\u001b[1;33m,\u001b[0m \u001b[1;36m1\u001b[0m\u001b[1;33m)\u001b[0m\u001b[1;33m)\u001b[0m\u001b[1;33m\u001b[0m\u001b[1;33m\u001b[0m\u001b[0m\n\u001b[0m",
      "\u001b[1;31mOperationalError\u001b[0m: database is locked"
     ]
    }
   ],
   "source": [
    "# ACTUALIZA la tabla elementos\n",
    "# FIJANDO el valor de 'NÃºmero atÃ³mico' igual a MARCADOR\n",
    "# DONDE id sea igual a MARCADOR\n",
    "sentencia = \"\"\"\n",
    "UPDATE elementos\n",
    "SET    'Numero atomico' = ?\n",
    "WHERE  id = ?\n",
    "\"\"\"\n",
    "# los marcadores son:\n",
    "#    - el primer elemento de la lista de nÃºmeros atÃ³micos\n",
    "#    - el indice 1\n",
    "cursor.execute(sentencia, (numeros_atomicos[0], 1))"
   ]
  },
  {
   "cell_type": "code",
   "execution_count": null,
   "metadata": {},
   "outputs": [],
   "source": [
    "# muestra la tabla\n",
    "pd.read_sql_query(\"SELECT * FROM elementos\", conector, index_col='id')"
   ]
  },
  {
   "cell_type": "code",
   "execution_count": 107,
   "metadata": {},
   "outputs": [
    {
     "ename": "OperationalError",
     "evalue": "database is locked",
     "output_type": "error",
     "traceback": [
      "\u001b[1;31m---------------------------------------------------------------------------\u001b[0m",
      "\u001b[1;31mOperationalError\u001b[0m                          Traceback (most recent call last)",
      "\u001b[1;32m<ipython-input-107-349fe0eab529>\u001b[0m in \u001b[0;36m<module>\u001b[1;34m\u001b[0m\n\u001b[0;32m      2\u001b[0m \u001b[1;32mfor\u001b[0m \u001b[0mi\u001b[0m \u001b[1;32min\u001b[0m \u001b[0mrange\u001b[0m\u001b[1;33m(\u001b[0m\u001b[1;36m1\u001b[0m\u001b[1;33m,\u001b[0m \u001b[0mlen\u001b[0m\u001b[1;33m(\u001b[0m\u001b[0mnumeros_atomicos\u001b[0m\u001b[1;33m)\u001b[0m\u001b[1;33m)\u001b[0m\u001b[1;33m:\u001b[0m\u001b[1;33m\u001b[0m\u001b[1;33m\u001b[0m\u001b[0m\n\u001b[0;32m      3\u001b[0m     \u001b[1;31m# ejecuta la sentencia SQL con valores diferentes para el nÃºmero atÃ³mico y el Ã­ndice\u001b[0m\u001b[1;33m\u001b[0m\u001b[1;33m\u001b[0m\u001b[1;33m\u001b[0m\u001b[0m\n\u001b[1;32m----> 4\u001b[1;33m     \u001b[0mcursor\u001b[0m\u001b[1;33m.\u001b[0m\u001b[0mexecute\u001b[0m\u001b[1;33m(\u001b[0m\u001b[0msentencia\u001b[0m\u001b[1;33m,\u001b[0m \u001b[1;33m(\u001b[0m\u001b[0mnumeros_atomicos\u001b[0m\u001b[1;33m[\u001b[0m\u001b[0mi\u001b[0m\u001b[1;33m]\u001b[0m\u001b[1;33m,\u001b[0m \u001b[0mi\u001b[0m \u001b[1;33m+\u001b[0m \u001b[1;36m1\u001b[0m\u001b[1;33m)\u001b[0m\u001b[1;33m)\u001b[0m\u001b[1;33m\u001b[0m\u001b[1;33m\u001b[0m\u001b[0m\n\u001b[0m\u001b[0;32m      5\u001b[0m \u001b[1;33m\u001b[0m\u001b[0m\n\u001b[0;32m      6\u001b[0m \u001b[0mpd\u001b[0m\u001b[1;33m.\u001b[0m\u001b[0mread_sql_query\u001b[0m\u001b[1;33m(\u001b[0m\u001b[1;34m\"SELECT * FROM elementos\"\u001b[0m\u001b[1;33m,\u001b[0m \u001b[0mconector\u001b[0m\u001b[1;33m,\u001b[0m \u001b[0mindex_col\u001b[0m\u001b[1;33m=\u001b[0m\u001b[1;34m'id'\u001b[0m\u001b[1;33m)\u001b[0m\u001b[1;33m\u001b[0m\u001b[1;33m\u001b[0m\u001b[0m\n",
      "\u001b[1;31mOperationalError\u001b[0m: database is locked"
     ]
    }
   ],
   "source": [
    "# para cada nÃºmero entre 1 y el nÃºmero de elementos de la lista numeros_atomicos - 1\n",
    "for i in range(1, len(numeros_atomicos)):\n",
    "    # ejecuta la sentencia SQL con valores diferentes para el nÃºmero atÃ³mico y el Ã­ndice\n",
    "    cursor.execute(sentencia, (numeros_atomicos[i], i + 1))\n",
    "    \n",
    "pd.read_sql_query(\"SELECT * FROM elementos\", conector, index_col='id')"
   ]
  },
  {
   "cell_type": "markdown",
   "metadata": {},
   "source": [
    "Recreando la tabla elementos\n",
    "El nÃºmero atÃ³mico identifica a un elemento quÃ­mico, entonces crearemos una tabla donde el nÃºmero atÃ³mico contenga el atributo PRIMARY KEY."
   ]
  },
  {
   "cell_type": "code",
   "execution_count": 108,
   "metadata": {},
   "outputs": [
    {
     "ename": "OperationalError",
     "evalue": "database is locked",
     "output_type": "error",
     "traceback": [
      "\u001b[1;31m---------------------------------------------------------------------------\u001b[0m",
      "\u001b[1;31mOperationalError\u001b[0m                          Traceback (most recent call last)",
      "\u001b[1;32m<ipython-input-108-caa2e36a7d94>\u001b[0m in \u001b[0;36m<module>\u001b[1;34m\u001b[0m\n\u001b[0;32m      1\u001b[0m \u001b[1;31m# elimina la tabla elementos\u001b[0m\u001b[1;33m\u001b[0m\u001b[1;33m\u001b[0m\u001b[1;33m\u001b[0m\u001b[0m\n\u001b[1;32m----> 2\u001b[1;33m \u001b[0mcursor\u001b[0m\u001b[1;33m.\u001b[0m\u001b[0mexecute\u001b[0m\u001b[1;33m(\u001b[0m\u001b[1;34m\"DROP TABLE elementos\"\u001b[0m\u001b[1;33m)\u001b[0m\u001b[1;33m\u001b[0m\u001b[1;33m\u001b[0m\u001b[0m\n\u001b[0m",
      "\u001b[1;31mOperationalError\u001b[0m: database is locked"
     ]
    }
   ],
   "source": [
    "# elimina la tabla elementos\n",
    "cursor.execute(\"DROP TABLE elementos\")"
   ]
  },
  {
   "cell_type": "code",
   "execution_count": 87,
   "metadata": {},
   "outputs": [
    {
     "data": {
      "text/plain": [
       "<sqlite3.Cursor at 0x1e2b2ba81f0>"
      ]
     },
     "execution_count": 87,
     "metadata": {},
     "output_type": "execute_result"
    }
   ],
   "source": [
    "# crea una tabla elementos con columnas \n",
    "# Z (nÃºmero atÃ³mico), Elemento y SÃ­mbolo\n",
    "cursor.execute(\"\"\"\n",
    "    CREATE TABLE elementos(\n",
    "        Z INTEGER PRIMARY KEY,\n",
    "        Elemento TEXT NOT NULL,\n",
    "        SÃ­mbolo TEXT NOT NULL)\n",
    "    \"\"\")"
   ]
  },
  {
   "cell_type": "code",
   "execution_count": 110,
   "metadata": {},
   "outputs": [],
   "source": [
    "# lista de tuplas conteniendo los nombres, sÃ­mbolos y nÃºmeros atÃ³micos de elementos quÃ­micos\n",
    "elementos = [('Cobre', 'Cu', 29), \n",
    "             ('Oro', 'Au', 79),\n",
    "             ('Plomo', 'Pb', 82),\n",
    "             ('Plata', 'Ag', 47),\n",
    "             ('Hierro', 'Fe', 26),\n",
    "             ('Carbono', 'C', 6),\n",
    "             ('EstaÃ±o', 'Sn', 50),\n",
    "             ('Azufre', 'S', 16),\n",
    "             ('Mercurio', 'Hg', 80),\n",
    "             ('Zinc', 'Zn', 30),\n",
    "             ('ArsÃ©nico', 'As', 33),\n",
    "             ('Antimonio', 'Sb', 51),\n",
    "             ('Bismuto', 'Bi', 83)]"
   ]
  },
  {
   "cell_type": "code",
   "execution_count": 111,
   "metadata": {},
   "outputs": [
    {
     "ename": "OperationalError",
     "evalue": "table elementos has no column named Elemento",
     "output_type": "error",
     "traceback": [
      "\u001b[1;31m---------------------------------------------------------------------------\u001b[0m",
      "\u001b[1;31mOperationalError\u001b[0m                          Traceback (most recent call last)",
      "\u001b[1;32m<ipython-input-111-2421ab9b8ca5>\u001b[0m in \u001b[0;36m<module>\u001b[1;34m\u001b[0m\n\u001b[0;32m      5\u001b[0m     \u001b[1;33m(\u001b[0m\u001b[0mElemento\u001b[0m\u001b[1;33m,\u001b[0m \u001b[0mSimbolo\u001b[0m\u001b[1;33m,\u001b[0m \u001b[0mZ\u001b[0m\u001b[1;33m)\u001b[0m\u001b[1;33m\u001b[0m\u001b[1;33m\u001b[0m\u001b[0m\n\u001b[0;32m      6\u001b[0m \u001b[0mVALUES\u001b[0m\u001b[1;33m\u001b[0m\u001b[1;33m\u001b[0m\u001b[0m\n\u001b[1;32m----> 7\u001b[1;33m     (?, ?, ?)\"\"\", elementos)\n\u001b[0m\u001b[0;32m      8\u001b[0m \u001b[1;33m\u001b[0m\u001b[0m\n\u001b[0;32m      9\u001b[0m \u001b[0mpd\u001b[0m\u001b[1;33m.\u001b[0m\u001b[0mread_sql_query\u001b[0m\u001b[1;33m(\u001b[0m\u001b[1;34m\"SELECT * FROM elementos\"\u001b[0m\u001b[1;33m,\u001b[0m \u001b[0mconector\u001b[0m\u001b[1;33m,\u001b[0m \u001b[0mindex_col\u001b[0m\u001b[1;33m=\u001b[0m\u001b[1;34m'Z'\u001b[0m\u001b[1;33m)\u001b[0m\u001b[1;33m\u001b[0m\u001b[1;33m\u001b[0m\u001b[0m\n",
      "\u001b[1;31mOperationalError\u001b[0m: table elementos has no column named Elemento"
     ]
    }
   ],
   "source": [
    "# el metodo executemany ejecuta la sentencia SQL para cada uno\n",
    "# de los datos en la lista de tuplas.\n",
    "cursor.executemany(\"\"\"\n",
    "INSERT INTO elementos\n",
    "    (Elemento, Simbolo, Z)\n",
    "VALUES\n",
    "    (?, ?, ?)\"\"\", elementos)\n",
    "\n",
    "pd.read_sql_query(\"SELECT * FROM elementos\", conector, index_col='Z')"
   ]
  },
  {
   "cell_type": "code",
   "execution_count": 112,
   "metadata": {},
   "outputs": [],
   "source": [
    "cursor.close()\n",
    "conector.commit()\n",
    "conector.close()"
   ]
  },
  {
   "cell_type": "code",
   "execution_count": null,
   "metadata": {},
   "outputs": [],
   "source": [
    "conector.cursor?"
   ]
  },
  {
   "cell_type": "code",
   "execution_count": null,
   "metadata": {},
   "outputs": [],
   "source": [
    "help(cursor.execute)"
   ]
  },
  {
   "cell_type": "code",
   "execution_count": null,
   "metadata": {},
   "outputs": [],
   "source": [
    "#cursor.execute?"
   ]
  },
  {
   "cell_type": "code",
   "execution_count": null,
   "metadata": {},
   "outputs": [],
   "source": [
    "#cursor.fetchall?"
   ]
  },
  {
   "cell_type": "markdown",
   "metadata": {},
   "source": [
    "Tarea 5\n",
    "Seleccionando y procesando datosÂ¶"
   ]
  },
  {
   "cell_type": "markdown",
   "metadata": {},
   "source": [
    "elementos.csv\n",
    "\n",
    "NÃºmero atÃ³mico,Nombre,SÃ­mbolo,Periodo,Grupo,AÃ±o de descubrimiento,Descubridor\n",
    "1,HidrÃ³geno,H,1,1,1766,T. Von Hohenheim\n",
    "2,Helio,He,1,18,1895,Ramsay y Cleve\n",
    "3,Litio,Li,2,1,1817,Arfwedson\n",
    "...\n",
    "116,Livermorio,Lv,7,16,2006,\"JINR, LLNL\"\n",
    "117,Teneso,Ts,7,17,2010,JINR\n",
    "118,OganesÃ³n,Og,7,18,2006,\"JINR, LLNL\""
   ]
  },
  {
   "cell_type": "code",
   "execution_count": null,
   "metadata": {},
   "outputs": [],
   "source": [
    "# crea una tabla con los contenidos del archivo elementos.csv\n",
    "df = pd.read_csv(\"elementos.csv\", index_col = 0)\n",
    "df"
   ]
  },
  {
   "cell_type": "code",
   "execution_count": null,
   "metadata": {},
   "outputs": [],
   "source": [
    "# muestra las primeras cinco filas\n",
    "df.head()"
   ]
  },
  {
   "cell_type": "code",
   "execution_count": null,
   "metadata": {},
   "outputs": [],
   "source": [
    "# conexiÃ³n a la base de datos\n",
    "conector = conectar(\"elementos_quimicos.db\")"
   ]
  },
  {
   "cell_type": "code",
   "execution_count": null,
   "metadata": {},
   "outputs": [],
   "source": [
    "# cursor del conector\n",
    "cursor = conector.cursor()"
   ]
  },
  {
   "cell_type": "code",
   "execution_count": null,
   "metadata": {},
   "outputs": [],
   "source": [
    "# elimina la tabla elementos\n",
    "cursor.execute(\"DROP TABLE IF EXISTS elementos\")"
   ]
  },
  {
   "cell_type": "code",
   "execution_count": null,
   "metadata": {},
   "outputs": [],
   "source": [
    "#df.to_sql?"
   ]
  },
  {
   "cell_type": "code",
   "execution_count": null,
   "metadata": {},
   "outputs": [],
   "source": [
    "# crea la tabla elementos en la base de datos a partir de la tabla df de pandas\n",
    "df.to_sql(\"elementos\", conector)"
   ]
  },
  {
   "cell_type": "code",
   "execution_count": null,
   "metadata": {},
   "outputs": [],
   "source": [
    "# informaciÃ³n de la tabla elementos en la base de datos\n",
    "cursor.execute(\"PRAGMA table_info('elementos')\").fetchall()"
   ]
  },
  {
   "cell_type": "code",
   "execution_count": null,
   "metadata": {},
   "outputs": [],
   "source": [
    "# crea una tabla de pandas con los datos de la tabla elementos de la base de datos\n",
    "pd.read_sql_query(\"SELECT * FROM elementos\", conector, index_col='NÃºmero atÃ³mico')"
   ]
  },
  {
   "cell_type": "code",
   "execution_count": null,
   "metadata": {},
   "outputs": [],
   "source": [
    "# limita los resultados a 10 registros con LIMIT 10\n",
    "pd.read_sql_query(\"SELECT * FROM elementos LIMIT 10\", conector, index_col='NÃºmero atÃ³mico')"
   ]
  },
  {
   "cell_type": "code",
   "execution_count": null,
   "metadata": {},
   "outputs": [],
   "source": [
    "df = pd.read_sql_query(\"SELECT * FROM elementos\", conector, index_col='NÃºmero atÃ³mico')\n",
    "df.head(10)"
   ]
  },
  {
   "cell_type": "code",
   "execution_count": null,
   "metadata": {},
   "outputs": [],
   "source": [
    "# serie con True donde el aÃ±o de descubrimiento es -1\n",
    "filtro = df[\"AÃ±o de descubrimiento\"] == -1\n",
    "\n",
    "# tabla con los datos donde el aÃ±o de descubrimiento es -1\n",
    "df[filtro]"
   ]
  },
  {
   "cell_type": "code",
   "execution_count": null,
   "metadata": {},
   "outputs": [],
   "source": [
    "# ejecuta una sentencia SQL para seleccionar de la tabla elementos\n",
    "# las filas donde el aÃ±o de descrubrimento es -1,\n",
    "# y retorna una tabla de pandas\n",
    "pd.read_sql_query(\"\"\"SELECT * FROM elementos WHERE \"AÃ±o de descubrimiento\" = -1 \"\"\",\n",
    "                  conector, \n",
    "                  index_col='NÃºmero atÃ³mico')"
   ]
  },
  {
   "cell_type": "code",
   "execution_count": null,
   "metadata": {},
   "outputs": [],
   "source": [
    "# pandas\n",
    "print(\"Elementos descubiertos en el siglo XXI:\")\n",
    "df[df[\"AÃ±o de descubrimiento\"] >= 2000]"
   ]
  },
  {
   "cell_type": "code",
   "execution_count": null,
   "metadata": {},
   "outputs": [],
   "source": [
    "# sentencia SQL y resultados en tabla de pandas\n",
    "pd.read_sql_query(\"\"\"SELECT * FROM elementos WHERE \"AÃ±o de descubrimiento\" >= 2000 \"\"\",\n",
    "                  conector, \n",
    "                  index_col='NÃºmero atÃ³mico')"
   ]
  },
  {
   "cell_type": "code",
   "execution_count": null,
   "metadata": {},
   "outputs": [],
   "source": [
    "# pandas: tabla con filas donde el nombre del elemento es ArsÃ©nico\n",
    "df[df[\"Nombre\"] == \"ArsÃ©nico\"]"
   ]
  },
  {
   "cell_type": "code",
   "execution_count": null,
   "metadata": {},
   "outputs": [],
   "source": [
    "# SQL\n",
    "# NOTA: si los datos ya estÃ¡n en una tabla es conveniente procesar \n",
    "# la tabla en lugar de consultar nuevamente a la base de datos\n",
    "pd.read_sql_query(\"\"\"SELECT * FROM elementos WHERE Nombre = \"ArsÃ©nico\" \"\"\",\n",
    "                  conector,\n",
    "                  index_col='NÃºmero atÃ³mico')"
   ]
  },
  {
   "cell_type": "code",
   "execution_count": null,
   "metadata": {},
   "outputs": [],
   "source": [
    "# pandas: tabla organizada por aÃ±o de descubrimento en orden ascendente\n",
    "df.sort_values(by=['AÃ±o de descubrimiento'])"
   ]
  },
  {
   "cell_type": "code",
   "execution_count": null,
   "metadata": {},
   "outputs": [],
   "source": [
    "# La clÃ¡usula ORDER BY ordena columnas por \n",
    "# orden ascendente (ASC) por defecto o en orden descendente (DESC)\n",
    "pd.read_sql_query(\"\"\"SELECT * FROM elementos ORDER BY \"AÃ±o de descubrimiento\" \"\"\",\n",
    "                  conector, index_col='NÃºmero atÃ³mico')"
   ]
  },
  {
   "cell_type": "code",
   "execution_count": null,
   "metadata": {},
   "outputs": [],
   "source": [
    "# cierra la conexiÃ³n del cursor\n",
    "cursor.close()"
   ]
  },
  {
   "cell_type": "code",
   "execution_count": null,
   "metadata": {},
   "outputs": [],
   "source": [
    "# cierra la conexiÃ³n a la base de datos\n",
    "conector.close()"
   ]
  },
  {
   "cell_type": "markdown",
   "metadata": {},
   "source": [
    "# Tarea 6\n",
    "Creando tablas relacionadasÂ¶\n"
   ]
  },
  {
   "cell_type": "code",
   "execution_count": null,
   "metadata": {},
   "outputs": [],
   "source": [
    "conector = conectar(\"elementos_quimicos.db\")"
   ]
  },
  {
   "cell_type": "code",
   "execution_count": null,
   "metadata": {},
   "outputs": [],
   "source": [
    "cursor = conector.cursor()"
   ]
  },
  {
   "cell_type": "code",
   "execution_count": null,
   "metadata": {},
   "outputs": [],
   "source": [
    "cursor = conector.cursor()"
   ]
  },
  {
   "cell_type": "code",
   "execution_count": null,
   "metadata": {},
   "outputs": [],
   "source": [
    "# DISTINCT hace que la selecciÃ³n retorne valores Ãºnicos en las columnas\n",
    "descubridores = pd.read_sql_query(\"SELECT DISTINCT descubridor FROM elementos\", conector)\n",
    "\n",
    "# la columna de Ã­ndices desde 1 hasta el nÃºmero de descubridores Ãºnicos\n",
    "descubridores.index = range(1, len(descubridores) + 1)\n",
    "\n",
    "# nombre para la columna de Ã­ndices\n",
    "descubridores.index.name = 'id'\n",
    "\n",
    "print(\"NÃºmero de descubridores:\", len(descubridores))\n",
    "\n",
    "descubridores"
   ]
  },
  {
   "cell_type": "code",
   "execution_count": null,
   "metadata": {},
   "outputs": [],
   "source": [
    "# elimina la tabla descubridors si existe\n",
    "cursor.execute(\"DROP TABLE IF EXISTS Descubridores\")\n",
    "\n",
    "# crea la tabla descubridores, con la columna id como PRIMARY KEY\n",
    "cursor.execute(\"\"\"\n",
    "    CREATE TABLE Descubridores(\n",
    "        id INTEGER PRIMARY KEY,\n",
    "        Descubridor TEXT NOT NULL)\n",
    "    \"\"\")"
   ]
  },
  {
   "cell_type": "code",
   "execution_count": null,
   "metadata": {},
   "outputs": [],
   "source": [
    "# inserta los datos de la tabla de pandas descubridores\n",
    "descubridores.to_sql(\"Descubridores\", conector, if_exists='append')"
   ]
  },
  {
   "cell_type": "code",
   "execution_count": null,
   "metadata": {},
   "outputs": [],
   "source": [
    "cursor.execute(\"PRAGMA table_info('descubridores')\").fetchall()"
   ]
  },
  {
   "cell_type": "code",
   "execution_count": null,
   "metadata": {},
   "outputs": [],
   "source": [
    "pd.read_sql_query(\"SELECT * FROM descubridores\", \n",
    "                  conector, index_col='id')"
   ]
  },
  {
   "cell_type": "code",
   "execution_count": null,
   "metadata": {},
   "outputs": [],
   "source": [
    "# tabla elementos de pandas\n",
    "elementos = pd.read_csv('elementos.csv', index_col=0)\n",
    "\n",
    "elementos.head()"
   ]
  },
  {
   "cell_type": "code",
   "execution_count": null,
   "metadata": {},
   "outputs": [],
   "source": [
    "descubridores[descubridores['Descubridor'] == 'Rutherford']"
   ]
  },
  {
   "cell_type": "code",
   "execution_count": null,
   "metadata": {},
   "outputs": [],
   "source": [
    "descubridores[descubridores['Descubridor'] == 'Rutherford'].index"
   ]
  },
  {
   "cell_type": "code",
   "execution_count": null,
   "metadata": {},
   "outputs": [],
   "source": [
    "descubridores[descubridores['Descubridor'] == 'Rutherford'].index[0]"
   ]
  },
  {
   "cell_type": "code",
   "execution_count": null,
   "metadata": {},
   "outputs": [],
   "source": [
    "ids = []\n",
    "for i in df['Descubridor']:\n",
    "    j = descubridores[descubridores['Descubridor'] == i].index[0]\n",
    "    ids.append(j)\n",
    "ids[:20]"
   ]
  },
  {
   "cell_type": "code",
   "execution_count": null,
   "metadata": {},
   "outputs": [],
   "source": [
    "# habilita el uso de claves forÃ¡neas\n",
    "cursor.execute(\"PRAGMA foreign_keys=1\")\n",
    "\n",
    "cursor.execute(\"DROP TABLE IF EXISTS Elementos\")\n",
    "\n",
    "# crea una tabla con NÃºmero atÃ³mico como PRIMARY KEY\n",
    "# y Descubridor como FOREIGN KEY\n",
    "cursor.execute(\"\"\"\n",
    "    CREATE TABLE Elementos(\n",
    "        'NÃºmero atÃ³mico' INTEGER PRIMARY KEY,\n",
    "        Nombre TEXT NOT NULL,\n",
    "        SÃ­mbolo TEXT NOT NULL,\n",
    "        Periodo INTEGER NOT NULL,\n",
    "        Grupo INTEGER NOT NULL,\n",
    "        'AÃ±o de descubrimiento' INTEGER NOT NULL,\n",
    "        Descubridor INTEGER NOT NULL,\n",
    "        FOREIGN KEY(Descubridor) REFERENCES Descubridores(id) ON UPDATE CASCADE ON DELETE CASCADE)\n",
    "    \"\"\")"
   ]
  },
  {
   "cell_type": "code",
   "execution_count": null,
   "metadata": {},
   "outputs": [],
   "source": [
    "cursor.execute(\"PRAGMA table_info('Elementos')\").fetchall()"
   ]
  },
  {
   "cell_type": "code",
   "execution_count": null,
   "metadata": {},
   "outputs": [],
   "source": [
    "pd.read_sql_query(\"SELECT * FROM elementos\", conector)"
   ]
  },
  {
   "cell_type": "code",
   "execution_count": null,
   "metadata": {},
   "outputs": [],
   "source": [
    "# cambia la columna Descubridor de la tabla pandas elementos\n",
    "elementos['Descubridor'] = ids\n",
    "\n",
    "elementos.head()"
   ]
  },
  {
   "cell_type": "code",
   "execution_count": null,
   "metadata": {},
   "outputs": [],
   "source": [
    "# inserta los datos de la tabla de pandas descubridores\n",
    "elementos.to_sql(\"Elementos\", conector, if_exists='append')"
   ]
  },
  {
   "cell_type": "code",
   "execution_count": null,
   "metadata": {},
   "outputs": [],
   "source": [
    "elementos = pd.read_sql_query(\"SELECT * FROM Elementos\", \n",
    "                              conector, index_col='NÃºmero atÃ³mico')\n",
    "elementos.head(20)"
   ]
  },
  {
   "cell_type": "code",
   "execution_count": null,
   "metadata": {},
   "outputs": [],
   "source": [
    "descubridores = pd.read_sql_query(\"SELECT * FROM Descubridores\", conector, index_col='id')\n",
    "descubridores.head(12)"
   ]
  },
  {
   "cell_type": "markdown",
   "metadata": {},
   "source": [
    "Combinando selecciones de tablasÂ¶"
   ]
  },
  {
   "cell_type": "code",
   "execution_count": null,
   "metadata": {},
   "outputs": [],
   "source": [
    "df = pd.read_sql_query(\"\"\"\n",
    "    SELECT\n",
    "        \"NÃºmero atÃ³mico\",\n",
    "        Nombre,\n",
    "        Descubridores.Descubridor\n",
    "    FROM\n",
    "        Elementos, Descubridores\n",
    "    WHERE\n",
    "        Elementos.Descubridor = Descubridores.Id\n",
    "    \"\"\", conector, index_col='NÃºmero atÃ³mico')\n",
    "df.head()"
   ]
  },
  {
   "cell_type": "code",
   "execution_count": null,
   "metadata": {},
   "outputs": [],
   "source": [
    "df = pd.read_sql_query(\"\"\"\n",
    "    SELECT\n",
    "        \"NÃºmero atÃ³mico\",\n",
    "        Nombre,\n",
    "        Descubridores.Descubridor \n",
    "    FROM\n",
    "        Elementos JOIN Descubridores\n",
    "    ON\n",
    "        Elementos.Descubridor = Descubridores.id\n",
    "    \"\"\", conector, index_col='NÃºmero atÃ³mico')\n",
    "df.head()"
   ]
  },
  {
   "cell_type": "code",
   "execution_count": null,
   "metadata": {},
   "outputs": [],
   "source": [
    "pd.read_sql_query(\"\"\"\n",
    "    SELECT\n",
    "        \"NÃºmero atÃ³mico\", Nombre, Descubridores.Descubridor \n",
    "    FROM\n",
    "        Elementos JOIN Descubridores\n",
    "    ON\n",
    "        Elementos.Descubridor = Descubridores.Id AND\n",
    "        Descubridores.Descubridor = 'Oersted'\n",
    "    \"\"\", conector, index_col='NÃºmero atÃ³mico')"
   ]
  },
  {
   "cell_type": "code",
   "execution_count": null,
   "metadata": {},
   "outputs": [],
   "source": [
    "pd.read_sql_query(\"\"\"\n",
    "    SELECT\n",
    "        \"NÃºmero atÃ³mico\", Nombre, Descubridores.Descubridor \n",
    "    FROM\n",
    "        Elementos JOIN Descubridores\n",
    "    ON\n",
    "        Elementos.Descubridor = Descubridores.Id AND\n",
    "        Descubridores.Descubridor = 'Seaborg'\n",
    "    \"\"\", conector, index_col='NÃºmero atÃ³mico')"
   ]
  },
  {
   "cell_type": "code",
   "execution_count": null,
   "metadata": {},
   "outputs": [],
   "source": [
    "pd.read_sql_query(\"\"\"\n",
    "    SELECT\n",
    "        \"NÃºmero atÃ³mico\",\n",
    "        Nombre, \n",
    "        Descubridores.Descubridor \n",
    "    FROM\n",
    "        Elementos, Descubridores\n",
    "    WHERE\n",
    "        Elementos.Descubridor = Descubridores.Id AND\n",
    "        Grupo = 18\n",
    "    \"\"\", conector, index_col='NÃºmero atÃ³mico')"
   ]
  },
  {
   "cell_type": "code",
   "execution_count": null,
   "metadata": {},
   "outputs": [],
   "source": [
    "pd.read_sql_query(\"\"\"\n",
    "    SELECT \"NÃºmero atÃ³mico\", \n",
    "           Nombre, \n",
    "           Descubridores.Descubridor,\n",
    "           \"AÃ±o de descubrimiento\"\n",
    "    FROM \n",
    "        Elementos, Descubridores\n",
    "    WHERE \n",
    "        Elementos.Descubridor = Descubridores.Id AND \n",
    "        \"AÃ±o de descubrimiento\" >= 1700 AND \"AÃ±o de descubrimiento\" < 1800\n",
    "    ORDER BY \"AÃ±o de descubrimiento\"\n",
    "    \"\"\", conector, index_col='NÃºmero atÃ³mico')"
   ]
  },
  {
   "cell_type": "code",
   "execution_count": null,
   "metadata": {},
   "outputs": [],
   "source": [
    "pd.read_sql_query(\"\"\"\n",
    "    SELECT \n",
    "        \"NÃºmero atÃ³mico\", \n",
    "        Nombre, \n",
    "        Descubridores.Descubridor, \n",
    "        \"AÃ±o de descubrimiento\" \n",
    "    FROM\n",
    "        Elementos, Descubridores\n",
    "    WHERE Elementos.Descubridor = Descubridores.Id AND\n",
    "          \"AÃ±o de descubrimiento\" BETWEEN 1700 and 1799\n",
    "    ORDER BY \"AÃ±o de descubrimiento\"\n",
    "    \"\"\", conector, index_col='NÃºmero atÃ³mico')"
   ]
  },
  {
   "cell_type": "markdown",
   "metadata": {},
   "source": [
    "Â¿CuÃ¡ntos elementos descubriÃ³ cada descubridor?Â¶"
   ]
  },
  {
   "cell_type": "code",
   "execution_count": null,
   "metadata": {},
   "outputs": [],
   "source": [
    "pd.read_sql_query(\"\"\"\n",
    "    SELECT \n",
    "        COUNT(Elementos.Descubridor) AS Numero,\n",
    "        Descubridores.Descubridor\n",
    "    FROM\n",
    "        Elementos, Descubridores\n",
    "    WHERE\n",
    "        Elementos.Descubridor = Descubridores.Id\n",
    "    GROUP BY\n",
    "        Elementos.Descubridor\n",
    "    ORDER BY\n",
    "        Numero DESC\n",
    "    \"\"\", conector)"
   ]
  },
  {
   "cell_type": "code",
   "execution_count": null,
   "metadata": {},
   "outputs": [],
   "source": [
    "pd.read_sql_query(\"\"\"\n",
    "    SELECT \n",
    "        COUNT(Elementos.Descubridor) AS Numero,\n",
    "        Descubridores.Descubridor\n",
    "    FROM\n",
    "        Elementos, Descubridores\n",
    "    WHERE\n",
    "        Elementos.Descubridor = Descubridores.Id\n",
    "    GROUP BY\n",
    "        Elementos.Descubridor\n",
    "    HAVING\n",
    "        Numero >= 3\n",
    "    ORDER BY\n",
    "        Numero DESC\n",
    "    \"\"\", conector)"
   ]
  },
  {
   "cell_type": "code",
   "execution_count": null,
   "metadata": {},
   "outputs": [],
   "source": [
    "cursor.execute(\"DELETE FROM Descubridores WHERE id = 6\")"
   ]
  },
  {
   "cell_type": "code",
   "execution_count": null,
   "metadata": {},
   "outputs": [],
   "source": [
    "cursor.execute(\"SELECT * FROM Descubridores\").fetchmany(10)"
   ]
  },
  {
   "cell_type": "code",
   "execution_count": null,
   "metadata": {},
   "outputs": [],
   "source": [
    "cursor.execute(\"SELECT * FROM Elementos\").fetchmany(20)"
   ]
  },
  {
   "cell_type": "code",
   "execution_count": null,
   "metadata": {},
   "outputs": [],
   "source": [
    "conector.commit()"
   ]
  },
  {
   "cell_type": "code",
   "execution_count": null,
   "metadata": {},
   "outputs": [],
   "source": [
    "cursor.close()\n",
    "conector.close()"
   ]
  },
  {
   "cell_type": "code",
   "execution_count": null,
   "metadata": {},
   "outputs": [],
   "source": []
  },
  {
   "cell_type": "code",
   "execution_count": null,
   "metadata": {},
   "outputs": [],
   "source": []
  }
 ],
 "metadata": {
  "kernelspec": {
   "display_name": "Python 3",
   "language": "python",
   "name": "python3"
  },
  "language_info": {
   "codemirror_mode": {
    "name": "ipython",
    "version": 3
   },
   "file_extension": ".py",
   "mimetype": "text/x-python",
   "name": "python",
   "nbconvert_exporter": "python",
   "pygments_lexer": "ipython3",
   "version": "3.7.9"
  }
 },
 "nbformat": 4,
 "nbformat_minor": 4
}
